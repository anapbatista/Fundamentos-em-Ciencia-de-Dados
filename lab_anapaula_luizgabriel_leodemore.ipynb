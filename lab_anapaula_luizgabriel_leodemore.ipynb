{
  "nbformat": 4,
  "nbformat_minor": 0,
  "metadata": {
    "colab": {
      "provenance": [],
      "include_colab_link": true
    },
    "kernelspec": {
      "name": "python3",
      "display_name": "Python 3"
    },
    "language_info": {
      "name": "python"
    }
  },
  "cells": [
    {
      "cell_type": "markdown",
      "metadata": {
        "id": "view-in-github",
        "colab_type": "text"
      },
      "source": [
        "<a href=\"https://colab.research.google.com/github/anapbatista/Fundamentos-em-Ciencia-de-Dados/blob/main/lab_anapaula_luizgabriel_leodemore.ipynb\" target=\"_parent\"><img src=\"https://colab.research.google.com/assets/colab-badge.svg\" alt=\"Open In Colab\"/></a>"
      ]
    },
    {
      "cell_type": "code",
      "execution_count": null,
      "metadata": {
        "colab": {
          "base_uri": "https://localhost:8080/"
        },
        "id": "We3JiMEaGfNY",
        "outputId": "234e7e6b-ffb2-4a98-9f2b-e22e4edb6181"
      },
      "outputs": [
        {
          "output_type": "stream",
          "name": "stdout",
          "text": [
            "Requirement already satisfied: scikit-learn in /usr/local/lib/python3.10/dist-packages (1.2.2)\n",
            "Requirement already satisfied: pandas in /usr/local/lib/python3.10/dist-packages (2.0.3)\n",
            "Requirement already satisfied: numpy>=1.17.3 in /usr/local/lib/python3.10/dist-packages (from scikit-learn) (1.25.2)\n",
            "Requirement already satisfied: scipy>=1.3.2 in /usr/local/lib/python3.10/dist-packages (from scikit-learn) (1.11.4)\n",
            "Requirement already satisfied: joblib>=1.1.1 in /usr/local/lib/python3.10/dist-packages (from scikit-learn) (1.4.2)\n",
            "Requirement already satisfied: threadpoolctl>=2.0.0 in /usr/local/lib/python3.10/dist-packages (from scikit-learn) (3.5.0)\n",
            "Requirement already satisfied: python-dateutil>=2.8.2 in /usr/local/lib/python3.10/dist-packages (from pandas) (2.8.2)\n",
            "Requirement already satisfied: pytz>=2020.1 in /usr/local/lib/python3.10/dist-packages (from pandas) (2023.4)\n",
            "Requirement already satisfied: tzdata>=2022.1 in /usr/local/lib/python3.10/dist-packages (from pandas) (2024.1)\n",
            "Requirement already satisfied: six>=1.5 in /usr/local/lib/python3.10/dist-packages (from python-dateutil>=2.8.2->pandas) (1.16.0)\n"
          ]
        }
      ],
      "source": [
        "pip install scikit-learn pandas\n"
      ]
    },
    {
      "cell_type": "code",
      "source": [
        "import pandas as pd\n",
        "from sklearn.datasets import load_breast_cancer\n",
        "\n",
        "data = load_breast_cancer()\n",
        "df = pd.DataFrame(data.data, columns=data.feature_names)\n",
        "\n",
        "X = df\n",
        "y = data.target\n",
        "\n",
        "print(df.describe())\n",
        "print(df.info())\n"
      ],
      "metadata": {
        "colab": {
          "base_uri": "https://localhost:8080/"
        },
        "id": "sdcRkhGfG-UX",
        "outputId": "84458577-2a07-4830-eb8f-ecab9e0c2c80"
      },
      "execution_count": null,
      "outputs": [
        {
          "output_type": "stream",
          "name": "stdout",
          "text": [
            "       mean radius  mean texture  mean perimeter    mean area  \\\n",
            "count   569.000000    569.000000      569.000000   569.000000   \n",
            "mean     14.127292     19.289649       91.969033   654.889104   \n",
            "std       3.524049      4.301036       24.298981   351.914129   \n",
            "min       6.981000      9.710000       43.790000   143.500000   \n",
            "25%      11.700000     16.170000       75.170000   420.300000   \n",
            "50%      13.370000     18.840000       86.240000   551.100000   \n",
            "75%      15.780000     21.800000      104.100000   782.700000   \n",
            "max      28.110000     39.280000      188.500000  2501.000000   \n",
            "\n",
            "       mean smoothness  mean compactness  mean concavity  mean concave points  \\\n",
            "count       569.000000        569.000000      569.000000           569.000000   \n",
            "mean          0.096360          0.104341        0.088799             0.048919   \n",
            "std           0.014064          0.052813        0.079720             0.038803   \n",
            "min           0.052630          0.019380        0.000000             0.000000   \n",
            "25%           0.086370          0.064920        0.029560             0.020310   \n",
            "50%           0.095870          0.092630        0.061540             0.033500   \n",
            "75%           0.105300          0.130400        0.130700             0.074000   \n",
            "max           0.163400          0.345400        0.426800             0.201200   \n",
            "\n",
            "       mean symmetry  mean fractal dimension  ...  worst radius  \\\n",
            "count     569.000000              569.000000  ...    569.000000   \n",
            "mean        0.181162                0.062798  ...     16.269190   \n",
            "std         0.027414                0.007060  ...      4.833242   \n",
            "min         0.106000                0.049960  ...      7.930000   \n",
            "25%         0.161900                0.057700  ...     13.010000   \n",
            "50%         0.179200                0.061540  ...     14.970000   \n",
            "75%         0.195700                0.066120  ...     18.790000   \n",
            "max         0.304000                0.097440  ...     36.040000   \n",
            "\n",
            "       worst texture  worst perimeter   worst area  worst smoothness  \\\n",
            "count     569.000000       569.000000   569.000000        569.000000   \n",
            "mean       25.677223       107.261213   880.583128          0.132369   \n",
            "std         6.146258        33.602542   569.356993          0.022832   \n",
            "min        12.020000        50.410000   185.200000          0.071170   \n",
            "25%        21.080000        84.110000   515.300000          0.116600   \n",
            "50%        25.410000        97.660000   686.500000          0.131300   \n",
            "75%        29.720000       125.400000  1084.000000          0.146000   \n",
            "max        49.540000       251.200000  4254.000000          0.222600   \n",
            "\n",
            "       worst compactness  worst concavity  worst concave points  \\\n",
            "count         569.000000       569.000000            569.000000   \n",
            "mean            0.254265         0.272188              0.114606   \n",
            "std             0.157336         0.208624              0.065732   \n",
            "min             0.027290         0.000000              0.000000   \n",
            "25%             0.147200         0.114500              0.064930   \n",
            "50%             0.211900         0.226700              0.099930   \n",
            "75%             0.339100         0.382900              0.161400   \n",
            "max             1.058000         1.252000              0.291000   \n",
            "\n",
            "       worst symmetry  worst fractal dimension  \n",
            "count      569.000000               569.000000  \n",
            "mean         0.290076                 0.083946  \n",
            "std          0.061867                 0.018061  \n",
            "min          0.156500                 0.055040  \n",
            "25%          0.250400                 0.071460  \n",
            "50%          0.282200                 0.080040  \n",
            "75%          0.317900                 0.092080  \n",
            "max          0.663800                 0.207500  \n",
            "\n",
            "[8 rows x 30 columns]\n",
            "<class 'pandas.core.frame.DataFrame'>\n",
            "RangeIndex: 569 entries, 0 to 568\n",
            "Data columns (total 30 columns):\n",
            " #   Column                   Non-Null Count  Dtype  \n",
            "---  ------                   --------------  -----  \n",
            " 0   mean radius              569 non-null    float64\n",
            " 1   mean texture             569 non-null    float64\n",
            " 2   mean perimeter           569 non-null    float64\n",
            " 3   mean area                569 non-null    float64\n",
            " 4   mean smoothness          569 non-null    float64\n",
            " 5   mean compactness         569 non-null    float64\n",
            " 6   mean concavity           569 non-null    float64\n",
            " 7   mean concave points      569 non-null    float64\n",
            " 8   mean symmetry            569 non-null    float64\n",
            " 9   mean fractal dimension   569 non-null    float64\n",
            " 10  radius error             569 non-null    float64\n",
            " 11  texture error            569 non-null    float64\n",
            " 12  perimeter error          569 non-null    float64\n",
            " 13  area error               569 non-null    float64\n",
            " 14  smoothness error         569 non-null    float64\n",
            " 15  compactness error        569 non-null    float64\n",
            " 16  concavity error          569 non-null    float64\n",
            " 17  concave points error     569 non-null    float64\n",
            " 18  symmetry error           569 non-null    float64\n",
            " 19  fractal dimension error  569 non-null    float64\n",
            " 20  worst radius             569 non-null    float64\n",
            " 21  worst texture            569 non-null    float64\n",
            " 22  worst perimeter          569 non-null    float64\n",
            " 23  worst area               569 non-null    float64\n",
            " 24  worst smoothness         569 non-null    float64\n",
            " 25  worst compactness        569 non-null    float64\n",
            " 26  worst concavity          569 non-null    float64\n",
            " 27  worst concave points     569 non-null    float64\n",
            " 28  worst symmetry           569 non-null    float64\n",
            " 29  worst fractal dimension  569 non-null    float64\n",
            "dtypes: float64(30)\n",
            "memory usage: 133.5 KB\n",
            "None\n"
          ]
        }
      ]
    },
    {
      "cell_type": "code",
      "source": [
        "from sklearn.model_selection import StratifiedKFold\n",
        "\n",
        "# Criar o cross-validator com 10 folds\n",
        "folds = StratifiedKFold(n_splits=10, shuffle=True, random_state=20)\n",
        "\n",
        "# Verificar o número de splits (partições) criados\n",
        "print(\"Número de folds:\", folds.n_splits)\n",
        "\n",
        "# Utilizando um loop para selecionar os conjuntos de treino e teste\n",
        "for fold_idx, (train_index, test_index) in enumerate(folds.split(X, y), 1):\n",
        "    X_train, X_val = X[train_index], X[test_index]\n",
        "    y_train, y_val = y[train_index], y[test_index]\n",
        "\n",
        "    # Observando o tamanho de cada conjunto amostrado\n",
        "    print(f\"Fold {fold_idx}:\")\n",
        "    print(\"  Tamanho do conjunto de treino X:\", X_train.shape)\n",
        "    print(\"  Tamanho do conjunto de treino y:\", y_train.shape)\n",
        "    print(\"  Tamanho do conjunto de validação X:\", X_val.shape)\n",
        "    print(\"  Tamanho do conjunto de validação y:\", y_val.shape)\n",
        "    print()"
      ],
      "metadata": {
        "colab": {
          "base_uri": "https://localhost:8080/"
        },
        "id": "q4gmGLBlH9gF",
        "outputId": "e479b06f-d2ae-4ab7-8376-cde2774fcbca"
      },
      "execution_count": null,
      "outputs": [
        {
          "output_type": "stream",
          "name": "stdout",
          "text": [
            "Número de folds: 10\n",
            "Fold 1:\n",
            "  Tamanho do conjunto de treino X: (512, 30)\n",
            "  Tamanho do conjunto de treino y: (512,)\n",
            "  Tamanho do conjunto de validação X: (57, 30)\n",
            "  Tamanho do conjunto de validação y: (57,)\n",
            "\n",
            "Fold 2:\n",
            "  Tamanho do conjunto de treino X: (512, 30)\n",
            "  Tamanho do conjunto de treino y: (512,)\n",
            "  Tamanho do conjunto de validação X: (57, 30)\n",
            "  Tamanho do conjunto de validação y: (57,)\n",
            "\n",
            "Fold 3:\n",
            "  Tamanho do conjunto de treino X: (512, 30)\n",
            "  Tamanho do conjunto de treino y: (512,)\n",
            "  Tamanho do conjunto de validação X: (57, 30)\n",
            "  Tamanho do conjunto de validação y: (57,)\n",
            "\n",
            "Fold 4:\n",
            "  Tamanho do conjunto de treino X: (512, 30)\n",
            "  Tamanho do conjunto de treino y: (512,)\n",
            "  Tamanho do conjunto de validação X: (57, 30)\n",
            "  Tamanho do conjunto de validação y: (57,)\n",
            "\n",
            "Fold 5:\n",
            "  Tamanho do conjunto de treino X: (512, 30)\n",
            "  Tamanho do conjunto de treino y: (512,)\n",
            "  Tamanho do conjunto de validação X: (57, 30)\n",
            "  Tamanho do conjunto de validação y: (57,)\n",
            "\n",
            "Fold 6:\n",
            "  Tamanho do conjunto de treino X: (512, 30)\n",
            "  Tamanho do conjunto de treino y: (512,)\n",
            "  Tamanho do conjunto de validação X: (57, 30)\n",
            "  Tamanho do conjunto de validação y: (57,)\n",
            "\n",
            "Fold 7:\n",
            "  Tamanho do conjunto de treino X: (512, 30)\n",
            "  Tamanho do conjunto de treino y: (512,)\n",
            "  Tamanho do conjunto de validação X: (57, 30)\n",
            "  Tamanho do conjunto de validação y: (57,)\n",
            "\n",
            "Fold 8:\n",
            "  Tamanho do conjunto de treino X: (512, 30)\n",
            "  Tamanho do conjunto de treino y: (512,)\n",
            "  Tamanho do conjunto de validação X: (57, 30)\n",
            "  Tamanho do conjunto de validação y: (57,)\n",
            "\n",
            "Fold 9:\n",
            "  Tamanho do conjunto de treino X: (512, 30)\n",
            "  Tamanho do conjunto de treino y: (512,)\n",
            "  Tamanho do conjunto de validação X: (57, 30)\n",
            "  Tamanho do conjunto de validação y: (57,)\n",
            "\n",
            "Fold 10:\n",
            "  Tamanho do conjunto de treino X: (513, 30)\n",
            "  Tamanho do conjunto de treino y: (513,)\n",
            "  Tamanho do conjunto de validação X: (56, 30)\n",
            "  Tamanho do conjunto de validação y: (56,)\n",
            "\n"
          ]
        }
      ]
    }
  ]
}