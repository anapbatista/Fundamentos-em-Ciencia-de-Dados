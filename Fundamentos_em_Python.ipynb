{
  "nbformat": 4,
  "nbformat_minor": 0,
  "metadata": {
    "colab": {
      "provenance": [],
      "authorship_tag": "ABX9TyMmKIPbRTSD/g9CA9S7nIBj",
      "include_colab_link": true
    },
    "kernelspec": {
      "name": "python3",
      "display_name": "Python 3"
    },
    "language_info": {
      "name": "python"
    }
  },
  "cells": [
    {
      "cell_type": "markdown",
      "metadata": {
        "id": "view-in-github",
        "colab_type": "text"
      },
      "source": [
        "<a href=\"https://colab.research.google.com/github/anapbatista/Fundamentos-em-Ciencia-de-Dados/blob/main/Fundamentos_em_Python.ipynb\" target=\"_parent\"><img src=\"https://colab.research.google.com/assets/colab-badge.svg\" alt=\"Open In Colab\"/></a>"
      ]
    },
    {
      "cell_type": "markdown",
      "source": [
        "**Primeiros Passos com o Colab**"
      ],
      "metadata": {
        "id": "lX5644FO-LgX"
      }
    },
    {
      "cell_type": "code",
      "execution_count": null,
      "metadata": {
        "id": "6GQzjdo077du",
        "colab": {
          "base_uri": "https://localhost:8080/"
        },
        "outputId": "48c9656e-e290-4ab4-cee2-9450db22ac34"
      },
      "outputs": [
        {
          "output_type": "stream",
          "name": "stdout",
          "text": [
            "Olá mundo, estamos chegando\n"
          ]
        }
      ],
      "source": [
        "print (\"Olá mundo, estamos chegando\")"
      ]
    },
    {
      "cell_type": "code",
      "source": [
        "nome = input(\"Digite seu nome: \")\n",
        "print ( \"Meu nome é:\", nome)"
      ],
      "metadata": {
        "colab": {
          "base_uri": "https://localhost:8080/"
        },
        "id": "BuVQIkIN-fQI",
        "outputId": "5933cbeb-0df7-4b6f-f548-c8274f9349f1"
      },
      "execution_count": null,
      "outputs": [
        {
          "output_type": "stream",
          "name": "stdout",
          "text": [
            "Digite seu nome: Ana\n",
            "Meu nome é: Ana\n"
          ]
        }
      ]
    },
    {
      "cell_type": "code",
      "source": [
        "print ( \"Nome é do tipo:\", type(nome))"
      ],
      "metadata": {
        "colab": {
          "base_uri": "https://localhost:8080/"
        },
        "id": "pKRX_k4QA5KZ",
        "outputId": "6484f219-ba9a-413a-bf3e-304f8bcf1864"
      },
      "execution_count": null,
      "outputs": [
        {
          "output_type": "stream",
          "name": "stdout",
          "text": [
            "Nome é do tipo: <class 'str'>\n"
          ]
        }
      ]
    },
    {
      "cell_type": "code",
      "source": [
        "idade = int(input(\"Digite sua idade: \"))\n",
        "print ( \"Tenho\", idade, \"anos\")"
      ],
      "metadata": {
        "colab": {
          "base_uri": "https://localhost:8080/"
        },
        "id": "WfN7tsYCBQF6",
        "outputId": "d1cc586f-884e-49ad-c46e-689d97b0de7d"
      },
      "execution_count": null,
      "outputs": [
        {
          "output_type": "stream",
          "name": "stdout",
          "text": [
            "Digite sua idade: 23\n",
            "Tenho 23 anos\n"
          ]
        }
      ]
    },
    {
      "cell_type": "code",
      "source": [
        "print ( \"Idade é do tipo:\", type(idade))"
      ],
      "metadata": {
        "colab": {
          "base_uri": "https://localhost:8080/"
        },
        "id": "ILnMTB17BoSI",
        "outputId": "d28349f9-36c8-43a9-9da9-01d37d22b036"
      },
      "execution_count": null,
      "outputs": [
        {
          "output_type": "stream",
          "name": "stdout",
          "text": [
            "Idade é do tipo: <class 'int'>\n"
          ]
        }
      ]
    },
    {
      "cell_type": "code",
      "source": [
        "x=int(3.98)\n",
        "y=float(2.34)\n",
        "z=0\n",
        "print (x+y)\n",
        "print (x-y)\n",
        "print (x*y)\n",
        "print (x**y) #potência\n",
        "print (x/y)\n",
        "print (x%y) #resto da divisão\n",
        "print ('{:.2f}'.format(x%y)) #formatando decimal com 2 casas\n",
        "print ('{:.3f}'.format(x%y)) #formatando decimal com 3 casas\n",
        "print (x//y) #parte inteira da divisão"
      ],
      "metadata": {
        "colab": {
          "base_uri": "https://localhost:8080/"
        },
        "id": "KyVjCCUoC1Gw",
        "outputId": "2cae5b0b-1152-4dbd-c8bb-a4e3233952c9"
      },
      "execution_count": null,
      "outputs": [
        {
          "output_type": "stream",
          "name": "stdout",
          "text": [
            "5.34\n",
            "0.6600000000000001\n",
            "7.02\n",
            "13.075663514671058\n",
            "1.2820512820512822\n",
            "0.6600000000000001\n",
            "0.66\n",
            "0.660\n",
            "1.0\n"
          ]
        }
      ]
    },
    {
      "cell_type": "code",
      "source": [
        "texto = \"estou estudando ciência de dados\"\n",
        "#essa função coloca a primeira letra da string maiuscula\n",
        "print (texto.capitalize())"
      ],
      "metadata": {
        "colab": {
          "base_uri": "https://localhost:8080/"
        },
        "id": "3hby6Oxlcvd2",
        "outputId": "caa7378e-41ab-4f8b-f8f4-022330243c31"
      },
      "execution_count": null,
      "outputs": [
        {
          "output_type": "stream",
          "name": "stdout",
          "text": [
            "Estou estudando ciência de dados\n"
          ]
        }
      ]
    },
    {
      "cell_type": "code",
      "source": [
        "r = float(input(\"Digite o raio do círculo: \"))\n",
        "pi=3.14\n",
        "perimetro = 2* pi *r\n",
        "print ('{:.2f}'.format(perimetro))"
      ],
      "metadata": {
        "colab": {
          "base_uri": "https://localhost:8080/"
        },
        "id": "CvFm0idpqYqP",
        "outputId": "fd6a607b-2c87-4d4b-b3c9-91ba164c878e"
      },
      "execution_count": null,
      "outputs": [
        {
          "output_type": "stream",
          "name": "stdout",
          "text": [
            "Digite o raio do círculo: 8\n",
            "50.24\n"
          ]
        }
      ]
    },
    {
      "cell_type": "code",
      "source": [
        "import math\n",
        "r = float(input(\"Digite o raio do círculo: \"))\n",
        "perimetro = 2* math.pi *r\n",
        "print (\"%.2f\" % (perimetro))\n",
        "print ('{:.2f}'.format(perimetro))\n",
        "#duas formas de formatação e precisão do float"
      ],
      "metadata": {
        "colab": {
          "base_uri": "https://localhost:8080/"
        },
        "id": "ucD5Jp4NF8Vw",
        "outputId": "351da4f9-a673-441f-ba5d-e24c412908cc"
      },
      "execution_count": null,
      "outputs": [
        {
          "output_type": "stream",
          "name": "stdout",
          "text": [
            "Digite o raio do círculo: 8\n",
            "50.27\n"
          ]
        }
      ]
    },
    {
      "cell_type": "code",
      "source": [
        "x,y = input(\"digite dois valores e um backspace entre eles\").split()\n",
        "#essa função pega dois valores de entrada e os separa\n",
        "x = float (x)\n",
        "y = float (y)\n",
        "print (x+y)"
      ],
      "metadata": {
        "colab": {
          "base_uri": "https://localhost:8080/"
        },
        "id": "t3OO0fU9erDe",
        "outputId": "24196593-691c-4a26-99ad-63793cca3966"
      },
      "execution_count": null,
      "outputs": [
        {
          "output_type": "stream",
          "name": "stdout",
          "text": [
            "digite dois valores e um backspace entre eles2 6\n",
            "8.0\n"
          ]
        }
      ]
    },
    {
      "cell_type": "code",
      "source": [
        "#verificar se o argumento inclui apenas caracteres do alfabeto\n",
        "x = input()\n",
        "x.isalpha()"
      ],
      "metadata": {
        "colab": {
          "base_uri": "https://localhost:8080/"
        },
        "id": "_mNVXVHAja4G",
        "outputId": "73cf2fa0-c226-43c5-ecd3-7b63638361e9"
      },
      "execution_count": null,
      "outputs": [
        {
          "name": "stdout",
          "output_type": "stream",
          "text": [
            "2\n"
          ]
        },
        {
          "output_type": "execute_result",
          "data": {
            "text/plain": [
              "False"
            ]
          },
          "metadata": {},
          "execution_count": 39
        }
      ]
    },
    {
      "cell_type": "code",
      "source": [
        "s = \"12345\"\n",
        "print(s.isdecimal())\n",
        "\n",
        "# contains alphabets\n",
        "s = \"12geeks34\"\n",
        "print(s.isdecimal())\n",
        "\n",
        "# contains numbers and spaces\n",
        "s = \"12/34\"\n",
        "print(s.isdecimal())\n",
        "\n",
        "#verificar se todos os caracteres de uma string são dígitos decimais.\n",
        "#Em outras palavras, ele retorna True se todos os caracteres da string forem números de 0 a 9 e se a string não estiver vazia."
      ],
      "metadata": {
        "colab": {
          "base_uri": "https://localhost:8080/"
        },
        "id": "WGClgDhpixgy",
        "outputId": "b5e063da-ef1d-4987-a675-43f86f531ed2"
      },
      "execution_count": null,
      "outputs": [
        {
          "output_type": "stream",
          "name": "stdout",
          "text": [
            "True\n",
            "False\n",
            "False\n"
          ]
        }
      ]
    },
    {
      "cell_type": "code",
      "source": [
        "list1 = ['geeks','for','geeks',2022]\n",
        "# printing length of list1\n",
        "print(len(list1))\n",
        "\n",
        "tuple1 = (1,2,3,4)\n",
        "# printing length of tuple1\n",
        "print(len(tuple1))\n",
        "\n",
        "string1 = \"geeksforgeeks\"\n",
        "# printing length of string1\n",
        "print(len(string1))\n",
        "\n",
        "#o número total de caracteres em uma string"
      ],
      "metadata": {
        "colab": {
          "base_uri": "https://localhost:8080/"
        },
        "id": "AEmWVavelHpU",
        "outputId": "c57b000c-3acc-4cd3-ca0b-f084f24415ce"
      },
      "execution_count": null,
      "outputs": [
        {
          "output_type": "stream",
          "name": "stdout",
          "text": [
            "4\n",
            "4\n",
            "13\n"
          ]
        }
      ]
    },
    {
      "cell_type": "code",
      "source": [
        "string = '123ayu456'\n",
        "print(string.isnumeric())\n",
        "\n",
        "string = '123456'\n",
        "print(string.isnumeric())\n",
        "\n",
        "#verifica se todos os caracteres da cadeia de caracteres são caracteres numéricos."
      ],
      "metadata": {
        "colab": {
          "base_uri": "https://localhost:8080/"
        },
        "id": "bsFwlnjWg1cI",
        "outputId": "20a51dda-6661-4c33-a84a-c31c06fdf8bb"
      },
      "execution_count": null,
      "outputs": [
        {
          "output_type": "stream",
          "name": "stdout",
          "text": [
            "False\n",
            "True\n"
          ]
        }
      ]
    },
    {
      "cell_type": "code",
      "source": [
        "#vamos dar início a calculadora\n",
        "\n",
        "x,y = input(\"digite dois valores: \").split()\n",
        "\n",
        "if (x.isnumeric() and y.isnumeric()):\n",
        "  op = input(\"digite a operação: \")\n",
        "  if (op==\"+\"):\n",
        "    print(float(x)+float(y))\n",
        "  elif (op==\"-\"):\n",
        "    print(float(x)-float(y))\n",
        "  elif (op==\"*\"):\n",
        "    print(float(x)*float(y))\n",
        "  elif (op==\"/\"):\n",
        "    print(float(x)/float(y))\n",
        "  else:\n",
        "    print (\"Atenção: os valores de operação não são válidos\")\n",
        "else:\n",
        "  print (\"Atenção: os valores de entrada não são numéricos\")\n",
        "\n"
      ],
      "metadata": {
        "colab": {
          "base_uri": "https://localhost:8080/"
        },
        "id": "hHfSAliYhXSq",
        "outputId": "3dc5c741-3c98-45ee-be44-a158ee7f7551"
      },
      "execution_count": null,
      "outputs": [
        {
          "output_type": "stream",
          "name": "stdout",
          "text": [
            "digite dois valores: 2 6\n",
            "digite a operação: p\n",
            "Atenção: os valores de operação não são válidos\n"
          ]
        }
      ]
    },
    {
      "cell_type": "code",
      "source": [
        "a = int(input(\"Digite um número para descobrir o seu fatorial:\"))\n",
        "print (math.factorial(a))"
      ],
      "metadata": {
        "colab": {
          "base_uri": "https://localhost:8080/"
        },
        "id": "lXTfnnpyaR_d",
        "outputId": "b6590716-214b-4d30-98fe-8f79c4c09ad0"
      },
      "execution_count": null,
      "outputs": [
        {
          "output_type": "stream",
          "name": "stdout",
          "text": [
            "Digite um número para descobrir o seu fatorial:5\n",
            "120\n"
          ]
        }
      ]
    },
    {
      "cell_type": "code",
      "source": [
        "#fazendo calculo do fatorial de um numero sem biblioteca\n",
        "\n",
        "x = int(input(\"Digite um valor: \"))\n",
        "fatorial = 1\n",
        "\n",
        "for i in range (x-1):\n",
        "  fatorial = fatorial * x\n",
        "  x-=1\n",
        "\n",
        "print(\"O fatorial de {} é {}\".format(x, fatorial))\n",
        "\n"
      ],
      "metadata": {
        "id": "Xm4B34WMsku7",
        "colab": {
          "base_uri": "https://localhost:8080/"
        },
        "outputId": "6d081ba3-ced0-4b30-8312-ffcd66fecec6"
      },
      "execution_count": null,
      "outputs": [
        {
          "output_type": "stream",
          "name": "stdout",
          "text": [
            "Digite um valor: 5\n",
            "O fatorial de 1 é 120\n"
          ]
        }
      ]
    },
    {
      "cell_type": "code",
      "source": [
        "#trabalhando com listas (conceitos principais)\n",
        "\n",
        "lista1=[ \"Ana\", \"Paula\", \"de\", \"Abreu\", 1.66, 23, 39, 66]\n",
        "\n",
        "print(len(lista1)) #quantidade de itens dentro da lista\n",
        "\n",
        "lista1.append(42) #insere objeto no final da lista por padrão\n",
        "lista1.append(\"%\")\n",
        "print(lista1)\n",
        "\n",
        "lista1.insert(4,\"Batista\") #insere o objeto em uma casa específica da lista (inicia na casa 0)\n",
        "print(lista1)\n",
        "\n",
        "lista1.remove(\"%\") #remove apenas a primeira ocorrência do objeto\n",
        "print(lista1)\n",
        "\n",
        "lista2=lista1[0:5] #divide a lista de acordo com as casas selecionadas\n",
        "lista3=lista1[5:10]\n",
        "print(lista2)\n",
        "print(lista3)\n",
        "\n",
        "lista3.sort() #coloca em ordem os objetos de uma lista\n",
        "lista2.sort() #coloca as strings em ordem alfábetica, do maiusculo para o minusculo\n",
        "print(lista3)\n",
        "print(lista2)\n",
        "\n",
        "\n",
        "\n"
      ],
      "metadata": {
        "colab": {
          "base_uri": "https://localhost:8080/"
        },
        "id": "kjRz9uak-yrR",
        "outputId": "20a395d6-6d5f-47e5-c86b-743e28b686b5"
      },
      "execution_count": null,
      "outputs": [
        {
          "output_type": "stream",
          "name": "stdout",
          "text": [
            "8\n",
            "['Ana', 'Paula', 'de', 'Abreu', 1.66, 23, 39, 66, 42, '%']\n",
            "['Ana', 'Paula', 'de', 'Abreu', 'Batista', 1.66, 23, 39, 66, 42, '%']\n",
            "['Ana', 'Paula', 'de', 'Abreu', 'Batista', 1.66, 23, 39, 66, 42]\n",
            "['Ana', 'Paula', 'de', 'Abreu', 'Batista']\n",
            "[1.66, 23, 39, 66, 42]\n",
            "[1.66, 23, 39, 42, 66]\n",
            "['Abreu', 'Ana', 'Batista', 'Paula', 'de']\n",
            "['Ana', 'Paula', 'de', 'Abreu', 'Batista', 1.66, 23, 39, 66, 42]\n"
          ]
        }
      ]
    },
    {
      "cell_type": "code",
      "source": [
        "#criando um sistema de votação que soma os votos e mostra o resultado dos votos\n",
        "\n",
        "dicio={1: (\"José Alves\", 19),\n",
        "       2: (\"Maria Antonieta\", 15),\n",
        "       3: (\"Carlos Augusto\", 63),\n",
        "       4: (\"Luiz Nando\", 32)}\n",
        "\n",
        "print(dicio[1]) #printando um valor do dicionário pela chave\n",
        "\n",
        "print(dicio.keys()) #printando chaves do dicionario\n",
        "\n",
        "print(dicio.values()) #printando valores do dicionário\n",
        "\n",
        "d = int(input(\"digite o valor do seu candidato \"))\n",
        "\n",
        "if d in dicio: #verificando se existe alguma chave com esse valor\n",
        "  valor=dicio[d]\n",
        "  t=int(valor[1])\n",
        "  t+=1\n",
        "  dicio[d]=(valor[0],t)\n",
        "\n",
        "print(dicio.values())\n",
        "\n"
      ],
      "metadata": {
        "colab": {
          "base_uri": "https://localhost:8080/"
        },
        "id": "yV-xWsdxd4lq",
        "outputId": "380c4b4d-2b9b-423b-d981-f4d9c168bba0"
      },
      "execution_count": null,
      "outputs": [
        {
          "output_type": "stream",
          "name": "stdout",
          "text": [
            "('José Alves', 19)\n",
            "dict_keys([1, 2, 3, 4])\n",
            "dict_values([('José Alves', 19), ('Maria Antonieta', 15), ('Carlos Augusto', 63), ('Luiz Nando', 32)])\n",
            "digite o valor do seu candidato 3\n",
            "dict_values([('José Alves', 19), ('Maria Antonieta', 15), ('Carlos Augusto', 64), ('Luiz Nando', 32)])\n"
          ]
        }
      ]
    },
    {
      "cell_type": "code",
      "source": [
        "#criando função(módulo) média\n",
        "\n",
        "def media():\n",
        "  quant=int(input(\"digite quantos valores deseja calcular a media \"))\n",
        "  soma=0\n",
        "  num=quant\n",
        "  resultado=0\n",
        "\n",
        "  while num!=0:\n",
        "    n=int(input(\"digite um valor \"))\n",
        "    num=num-1\n",
        "    soma=soma+n\n",
        "\n",
        "  return (soma/quant)\n",
        "\n",
        "resultado=media()\n",
        "print(resultado)\n",
        "\n",
        "f=open('calculosdamedia.txt', 'w')\n",
        "f.write(str(resultado))\n",
        "f.close()"
      ],
      "metadata": {
        "colab": {
          "base_uri": "https://localhost:8080/"
        },
        "id": "Q9aWQZkdrYgu",
        "outputId": "16af8caa-bd6d-47f5-b8a5-fbe1c84c6926"
      },
      "execution_count": null,
      "outputs": [
        {
          "output_type": "stream",
          "name": "stdout",
          "text": [
            "digite quantos valores deseja calcular a media 2\n",
            "digite um valor 1\n",
            "digite um valor 3\n",
            "2.0\n"
          ]
        }
      ]
    },
    {
      "cell_type": "code",
      "source": [
        "#iniciando importação de bibliotecas - NUMPY\n",
        "import numpy as np #convenção\n",
        "\n",
        "inteiros = np.array ({1,2,3})\n",
        "reais = np.array([[3.14, 2.65, 9.41], [5.6, 2.9, 3.7]])\n",
        "\n",
        "print(reais[0]) #acessando a posição da matriz\n",
        "\n",
        "print(reais[0,1]) #acessando elemento\n",
        "\n",
        "print(reais.dtype) #vendo o tipo da matriz\n",
        "\n",
        "a = np.array([2])\n",
        "b = np.array([1,2,3])\n",
        "c = np.array([[3.14, 2.65, 9.41], [5.6, 2.9, 3.7]])\n",
        "d = np.array([[[1,2,3], [1,2,3]], [[1,2,3], [1,2,3]]])\n",
        "\n",
        "print(a.shape) #mostra o formato da matriz, linhas, colunas\n",
        "print(b.shape)\n",
        "print(c.shape)\n",
        "print(d.shape)\n",
        "print(d[0].shape) #mostra o formato de uma matriz dentro da matriz\n",
        "\n",
        "print(d.ndim) #qual a dimensão da matriz\n",
        "\n",
        "e = np.array([1,2,3], dtype=float) #transformando em float\n",
        "f = np.array([3,4,5])\n",
        "print(e)\n",
        "\n",
        "print(f.astype(float)) #printa como float\n",
        "print(f) #mas não altera o tipo de dado da matriz\n",
        "print(d.reshape([2,6])) #mudando o formato da matriz\n",
        "\n",
        "\n",
        "print(d.size) #numero de elementos de uma matriz\n",
        "\n",
        "\n",
        "#criando uma matriz com especificações\n",
        "\n",
        "m1 = np.arange(5,25,5).reshape(2,2) #cria uma linha iniciando em 5, até o número 20, de 5 em 5 (em formato 2 por 2)\n",
        "m2 = np.ones([3,2], dtype=int) #matriz com todos os elementos sendo 1, no formato 3 linhas e 2 colunas\n",
        "m3 = np.empty([5,5,3]) #cria uma matriz com elementos formados por lixo na memória (5 matrizes internas, 5 linhas, 3 colunas)\n",
        "print(m1)\n",
        "print(m2)\n",
        "print(m3)\n",
        "\n",
        "print()\n",
        "print(np.random.rand(3,3)) #elementos de 0 a 1 (3 por 3)\n",
        "print()\n",
        "print((np.random.rand(3,3)*10)+10)\n",
        "\n",
        "t=b+10\n",
        "print(t)\n",
        "\n",
        "\n",
        "m3=np.array([[3,4],[3,4]])\n",
        "m4=np.array([[3,4],[3,4],[3,4]])\n",
        "print()\n",
        "print(np.matmul(m4,m3)) #produto matricial\n",
        "print(e*f) #multiplica elemento por elemento\n",
        "print(m4)\n",
        "print(m4.sum(axis=0)) #soma dos elementos das colunas\n",
        "print(m4.sum(axis=1)) #soma dos elementos das linhas"
      ],
      "metadata": {
        "colab": {
          "base_uri": "https://localhost:8080/"
        },
        "id": "KEdy-AMu8MC7",
        "outputId": "ef5256c5-f81d-4a75-aab4-4aec4651f630"
      },
      "execution_count": null,
      "outputs": [
        {
          "output_type": "stream",
          "name": "stdout",
          "text": [
            "[3.14 2.65 9.41]\n",
            "2.65\n",
            "float64\n",
            "(1,)\n",
            "(3,)\n",
            "(2, 3)\n",
            "(2, 2, 3)\n",
            "(2, 3)\n",
            "3\n",
            "[1. 2. 3.]\n",
            "[3. 4. 5.]\n",
            "[3 4 5]\n",
            "[[1 2 3 1 2 3]\n",
            " [1 2 3 1 2 3]]\n",
            "12\n",
            "[[ 5 10]\n",
            " [15 20]]\n",
            "[[1 1]\n",
            " [1 1]\n",
            " [1 1]]\n",
            "[[[5.03560581e-310 0.00000000e+000 2.71242040e-321]\n",
            "  [            nan 1.12646967e-321 0.00000000e+000]\n",
            "  [2.21525952e+214 1.15989825e+253 3.42134148e+180]\n",
            "  [1.15313522e+214 5.29877267e+180 5.98129759e-154]\n",
            "  [1.81786189e+185 1.91077771e+214 5.03032220e+180]]\n",
            "\n",
            " [[1.06400250e+248 2.35052608e+180 5.30586801e+180]\n",
            "  [4.96036526e+180 1.46923002e+195 5.29877267e+180]\n",
            "  [6.01334515e-154 6.20428116e+223 2.03196437e+174]\n",
            "  [1.68821597e+195 1.74928933e+243 9.75025264e+199]\n",
            "  [1.47716621e+248 3.73944688e+193 6.01334434e-154]]\n",
            "\n",
            " [[1.62348178e+219 2.25538745e+276 5.84938624e+199]\n",
            "  [4.72883470e+164 1.99722429e+161 9.30860842e+199]\n",
            "  [9.19596627e+170 4.38302239e+156 1.47716517e+248]\n",
            "  [7.68252167e+170 6.01346954e-154 6.01434482e+175]\n",
            "  [9.80727463e+256 5.70951142e+228 1.33073579e+179]]\n",
            "\n",
            " [[2.31461381e-152 7.68252156e+170 1.99915287e+161]\n",
            "  [3.12259442e-085 5.66774924e+160 1.28625507e+248]\n",
            "  [4.47590761e-091 1.18600496e-259 2.88982956e+204]\n",
            "  [3.42134148e+180 6.01347002e-154 9.49270679e+077]\n",
            "  [1.43397144e+166 7.62870158e+228 4.82595977e+276]]\n",
            "\n",
            " [[2.54828181e+161 2.11651649e+214 9.08367229e+223]\n",
            "  [6.01347002e-154 2.34785667e+251 6.46572285e+170]\n",
            "  [2.35053208e+180 4.82595977e+276 1.50762582e+161]\n",
            "  [4.90925569e+252 6.58636181e+180 2.32158957e-152]\n",
            "  [2.03631209e+174 2.03727818e+174 2.15878314e-313]]]\n",
            "\n",
            "[[0.90051013 0.82119851 0.69516897]\n",
            " [0.23030591 0.32684688 0.909142  ]\n",
            " [0.02264209 0.31959649 0.239399  ]]\n",
            "\n",
            "[[16.46627838 18.63013114 16.18426177]\n",
            " [19.69034891 18.99751046 13.30585689]\n",
            " [10.49131702 16.43744066 17.71982765]]\n",
            "[11 12 13]\n",
            "\n",
            "[[21 28]\n",
            " [21 28]\n",
            " [21 28]]\n",
            "[ 3.  8. 15.]\n",
            "[[3 4]\n",
            " [3 4]\n",
            " [3 4]]\n",
            "[ 9 12]\n",
            "[7 7 7]\n"
          ]
        }
      ]
    },
    {
      "cell_type": "code",
      "source": [
        "#iniciando importação de bibliotecas - PANDAS\n",
        "\n",
        "import numpy as np\n",
        "import pandas as pd\n",
        "\n",
        "serie = pd.Series(['Rodolfo','Nonato','Simoes','Rudinei'], index=[12, 23, 34, 10]) #criando uma série com chave\n",
        "display(serie)\n",
        "print()\n",
        "display(serie.iloc[2]) #acessando pelo índice do vetor\n",
        "print()\n",
        "display(serie.loc[12]) #acessando pelas chaves(index)\n",
        "print()\n",
        "\n",
        "dicio= {'a': 10,\n",
        "        'b': 8,\n",
        "        'c': 5,}\n",
        "\n",
        "serie2= pd.Series(dicio) #transformando um dicionário em série (mais fácil de manipular)\n",
        "display(serie2)\n",
        "print()\n",
        "display(serie2[:2]) #acessando posições de 0 a 1\n",
        "print()\n",
        "\n",
        "\n",
        "serie3= pd.Series(np.arange(10)*2) #criando uma serie de 0 a 9, com valores multiplicado por 2\n",
        "display(serie3)\n",
        "print()\n",
        "\n",
        "\n",
        "npa= np.array([\n",
        "    ['Rodolfo','Nonato','Simoes','Rudinei'],\n",
        "    [12, 23, 34, 10],\n",
        "    [2, 3, 4, 0],\n",
        "    [75, 80, 60, 80]])\n",
        "\n",
        "display(npa)\n",
        "print()\n",
        "man= pd.DataFrame(npa.T, columns=['Nome','P1', 'P2', 'Frequencia'], index=[123, 598, 784, 964]) #transformando em frame\n",
        "display(man)\n",
        "print()\n",
        "\n",
        "\n",
        "dado=man.loc[123] #acessando o dataframe pela chave\n",
        "display(dado[\"Nome\"])\n",
        "print()\n",
        "display(man.iloc[1]) #acessando posição 1 do dataframe\n",
        "print()\n",
        "\n",
        "\n",
        "dicio2= {'nUSP': [123, 598, 784, 964],\n",
        "    'Nome': ['Rodolfo','Nonato','Simoes','Rudinei'],\n",
        "    'Curso': ['BCDADOS', 'BECD','BSI', 'BCC'],\n",
        "    'MediaPonderada': [8.0, 7.5, 7.8, 6.8]}\n",
        "\n",
        "df=pd.DataFrame(dicio2)\n",
        "display(df)\n",
        "print()\n",
        "display(df['nUSP'])\n",
        "display(df.query(\"MediaPonderada >=7.0\")) #outra opção ---> retorno = df['MediaPonderada'] >= 7.0\n",
        "print()\n",
        "\n",
        "display(df['MediaPonderada'].mean()) #media dos valores\n",
        "df[df['Curso']!='BCDADOS']['MediaPonderada'].mean() #primeiro conchete -> filtra o curso, segundo conchete -> calcula a media das medias ponderadas desse filtro feito\n",
        "df.query(\"Curso!='BSI'\")['MediaPonderada'].mean()"
      ],
      "metadata": {
        "colab": {
          "base_uri": "https://localhost:8080/",
          "height": 1000
        },
        "id": "34-0p8qoj1mW",
        "outputId": "667ecbae-5ca2-4880-c1fa-d9edaf48f4f0"
      },
      "execution_count": null,
      "outputs": [
        {
          "output_type": "display_data",
          "data": {
            "text/plain": [
              "12    Rodolfo\n",
              "23     Nonato\n",
              "34     Simoes\n",
              "10    Rudinei\n",
              "dtype: object"
            ]
          },
          "metadata": {}
        },
        {
          "output_type": "stream",
          "name": "stdout",
          "text": [
            "\n"
          ]
        },
        {
          "output_type": "display_data",
          "data": {
            "text/plain": [
              "'Simoes'"
            ],
            "application/vnd.google.colaboratory.intrinsic+json": {
              "type": "string"
            }
          },
          "metadata": {}
        },
        {
          "output_type": "stream",
          "name": "stdout",
          "text": [
            "\n"
          ]
        },
        {
          "output_type": "display_data",
          "data": {
            "text/plain": [
              "'Rodolfo'"
            ],
            "application/vnd.google.colaboratory.intrinsic+json": {
              "type": "string"
            }
          },
          "metadata": {}
        },
        {
          "output_type": "stream",
          "name": "stdout",
          "text": [
            "\n"
          ]
        },
        {
          "output_type": "display_data",
          "data": {
            "text/plain": [
              "a    10\n",
              "b     8\n",
              "c     5\n",
              "dtype: int64"
            ]
          },
          "metadata": {}
        },
        {
          "output_type": "stream",
          "name": "stdout",
          "text": [
            "\n"
          ]
        },
        {
          "output_type": "display_data",
          "data": {
            "text/plain": [
              "a    10\n",
              "b     8\n",
              "dtype: int64"
            ]
          },
          "metadata": {}
        },
        {
          "output_type": "stream",
          "name": "stdout",
          "text": [
            "\n"
          ]
        },
        {
          "output_type": "display_data",
          "data": {
            "text/plain": [
              "0     0\n",
              "1     2\n",
              "2     4\n",
              "3     6\n",
              "4     8\n",
              "5    10\n",
              "6    12\n",
              "7    14\n",
              "8    16\n",
              "9    18\n",
              "dtype: int64"
            ]
          },
          "metadata": {}
        },
        {
          "output_type": "stream",
          "name": "stdout",
          "text": [
            "\n"
          ]
        },
        {
          "output_type": "display_data",
          "data": {
            "text/plain": [
              "array([['Rodolfo', 'Nonato', 'Simoes', 'Rudinei'],\n",
              "       ['12', '23', '34', '10'],\n",
              "       ['2', '3', '4', '0'],\n",
              "       ['75', '80', '60', '80']], dtype='<U21')"
            ]
          },
          "metadata": {}
        },
        {
          "output_type": "stream",
          "name": "stdout",
          "text": [
            "\n"
          ]
        },
        {
          "output_type": "display_data",
          "data": {
            "text/plain": [
              "        Nome  P1 P2 Frequencia\n",
              "123  Rodolfo  12  2         75\n",
              "598   Nonato  23  3         80\n",
              "784   Simoes  34  4         60\n",
              "964  Rudinei  10  0         80"
            ],
            "text/html": [
              "\n",
              "  <div id=\"df-6cf8798b-dd15-423f-a411-f66f10e64f4e\" class=\"colab-df-container\">\n",
              "    <div>\n",
              "<style scoped>\n",
              "    .dataframe tbody tr th:only-of-type {\n",
              "        vertical-align: middle;\n",
              "    }\n",
              "\n",
              "    .dataframe tbody tr th {\n",
              "        vertical-align: top;\n",
              "    }\n",
              "\n",
              "    .dataframe thead th {\n",
              "        text-align: right;\n",
              "    }\n",
              "</style>\n",
              "<table border=\"1\" class=\"dataframe\">\n",
              "  <thead>\n",
              "    <tr style=\"text-align: right;\">\n",
              "      <th></th>\n",
              "      <th>Nome</th>\n",
              "      <th>P1</th>\n",
              "      <th>P2</th>\n",
              "      <th>Frequencia</th>\n",
              "    </tr>\n",
              "  </thead>\n",
              "  <tbody>\n",
              "    <tr>\n",
              "      <th>123</th>\n",
              "      <td>Rodolfo</td>\n",
              "      <td>12</td>\n",
              "      <td>2</td>\n",
              "      <td>75</td>\n",
              "    </tr>\n",
              "    <tr>\n",
              "      <th>598</th>\n",
              "      <td>Nonato</td>\n",
              "      <td>23</td>\n",
              "      <td>3</td>\n",
              "      <td>80</td>\n",
              "    </tr>\n",
              "    <tr>\n",
              "      <th>784</th>\n",
              "      <td>Simoes</td>\n",
              "      <td>34</td>\n",
              "      <td>4</td>\n",
              "      <td>60</td>\n",
              "    </tr>\n",
              "    <tr>\n",
              "      <th>964</th>\n",
              "      <td>Rudinei</td>\n",
              "      <td>10</td>\n",
              "      <td>0</td>\n",
              "      <td>80</td>\n",
              "    </tr>\n",
              "  </tbody>\n",
              "</table>\n",
              "</div>\n",
              "    <div class=\"colab-df-buttons\">\n",
              "\n",
              "  <div class=\"colab-df-container\">\n",
              "    <button class=\"colab-df-convert\" onclick=\"convertToInteractive('df-6cf8798b-dd15-423f-a411-f66f10e64f4e')\"\n",
              "            title=\"Convert this dataframe to an interactive table.\"\n",
              "            style=\"display:none;\">\n",
              "\n",
              "  <svg xmlns=\"http://www.w3.org/2000/svg\" height=\"24px\" viewBox=\"0 -960 960 960\">\n",
              "    <path d=\"M120-120v-720h720v720H120Zm60-500h600v-160H180v160Zm220 220h160v-160H400v160Zm0 220h160v-160H400v160ZM180-400h160v-160H180v160Zm440 0h160v-160H620v160ZM180-180h160v-160H180v160Zm440 0h160v-160H620v160Z\"/>\n",
              "  </svg>\n",
              "    </button>\n",
              "\n",
              "  <style>\n",
              "    .colab-df-container {\n",
              "      display:flex;\n",
              "      gap: 12px;\n",
              "    }\n",
              "\n",
              "    .colab-df-convert {\n",
              "      background-color: #E8F0FE;\n",
              "      border: none;\n",
              "      border-radius: 50%;\n",
              "      cursor: pointer;\n",
              "      display: none;\n",
              "      fill: #1967D2;\n",
              "      height: 32px;\n",
              "      padding: 0 0 0 0;\n",
              "      width: 32px;\n",
              "    }\n",
              "\n",
              "    .colab-df-convert:hover {\n",
              "      background-color: #E2EBFA;\n",
              "      box-shadow: 0px 1px 2px rgba(60, 64, 67, 0.3), 0px 1px 3px 1px rgba(60, 64, 67, 0.15);\n",
              "      fill: #174EA6;\n",
              "    }\n",
              "\n",
              "    .colab-df-buttons div {\n",
              "      margin-bottom: 4px;\n",
              "    }\n",
              "\n",
              "    [theme=dark] .colab-df-convert {\n",
              "      background-color: #3B4455;\n",
              "      fill: #D2E3FC;\n",
              "    }\n",
              "\n",
              "    [theme=dark] .colab-df-convert:hover {\n",
              "      background-color: #434B5C;\n",
              "      box-shadow: 0px 1px 3px 1px rgba(0, 0, 0, 0.15);\n",
              "      filter: drop-shadow(0px 1px 2px rgba(0, 0, 0, 0.3));\n",
              "      fill: #FFFFFF;\n",
              "    }\n",
              "  </style>\n",
              "\n",
              "    <script>\n",
              "      const buttonEl =\n",
              "        document.querySelector('#df-6cf8798b-dd15-423f-a411-f66f10e64f4e button.colab-df-convert');\n",
              "      buttonEl.style.display =\n",
              "        google.colab.kernel.accessAllowed ? 'block' : 'none';\n",
              "\n",
              "      async function convertToInteractive(key) {\n",
              "        const element = document.querySelector('#df-6cf8798b-dd15-423f-a411-f66f10e64f4e');\n",
              "        const dataTable =\n",
              "          await google.colab.kernel.invokeFunction('convertToInteractive',\n",
              "                                                    [key], {});\n",
              "        if (!dataTable) return;\n",
              "\n",
              "        const docLinkHtml = 'Like what you see? Visit the ' +\n",
              "          '<a target=\"_blank\" href=https://colab.research.google.com/notebooks/data_table.ipynb>data table notebook</a>'\n",
              "          + ' to learn more about interactive tables.';\n",
              "        element.innerHTML = '';\n",
              "        dataTable['output_type'] = 'display_data';\n",
              "        await google.colab.output.renderOutput(dataTable, element);\n",
              "        const docLink = document.createElement('div');\n",
              "        docLink.innerHTML = docLinkHtml;\n",
              "        element.appendChild(docLink);\n",
              "      }\n",
              "    </script>\n",
              "  </div>\n",
              "\n",
              "\n",
              "<div id=\"df-8a5870b9-aa5d-407e-b997-e84fa5da182e\">\n",
              "  <button class=\"colab-df-quickchart\" onclick=\"quickchart('df-8a5870b9-aa5d-407e-b997-e84fa5da182e')\"\n",
              "            title=\"Suggest charts\"\n",
              "            style=\"display:none;\">\n",
              "\n",
              "<svg xmlns=\"http://www.w3.org/2000/svg\" height=\"24px\"viewBox=\"0 0 24 24\"\n",
              "     width=\"24px\">\n",
              "    <g>\n",
              "        <path d=\"M19 3H5c-1.1 0-2 .9-2 2v14c0 1.1.9 2 2 2h14c1.1 0 2-.9 2-2V5c0-1.1-.9-2-2-2zM9 17H7v-7h2v7zm4 0h-2V7h2v10zm4 0h-2v-4h2v4z\"/>\n",
              "    </g>\n",
              "</svg>\n",
              "  </button>\n",
              "\n",
              "<style>\n",
              "  .colab-df-quickchart {\n",
              "      --bg-color: #E8F0FE;\n",
              "      --fill-color: #1967D2;\n",
              "      --hover-bg-color: #E2EBFA;\n",
              "      --hover-fill-color: #174EA6;\n",
              "      --disabled-fill-color: #AAA;\n",
              "      --disabled-bg-color: #DDD;\n",
              "  }\n",
              "\n",
              "  [theme=dark] .colab-df-quickchart {\n",
              "      --bg-color: #3B4455;\n",
              "      --fill-color: #D2E3FC;\n",
              "      --hover-bg-color: #434B5C;\n",
              "      --hover-fill-color: #FFFFFF;\n",
              "      --disabled-bg-color: #3B4455;\n",
              "      --disabled-fill-color: #666;\n",
              "  }\n",
              "\n",
              "  .colab-df-quickchart {\n",
              "    background-color: var(--bg-color);\n",
              "    border: none;\n",
              "    border-radius: 50%;\n",
              "    cursor: pointer;\n",
              "    display: none;\n",
              "    fill: var(--fill-color);\n",
              "    height: 32px;\n",
              "    padding: 0;\n",
              "    width: 32px;\n",
              "  }\n",
              "\n",
              "  .colab-df-quickchart:hover {\n",
              "    background-color: var(--hover-bg-color);\n",
              "    box-shadow: 0 1px 2px rgba(60, 64, 67, 0.3), 0 1px 3px 1px rgba(60, 64, 67, 0.15);\n",
              "    fill: var(--button-hover-fill-color);\n",
              "  }\n",
              "\n",
              "  .colab-df-quickchart-complete:disabled,\n",
              "  .colab-df-quickchart-complete:disabled:hover {\n",
              "    background-color: var(--disabled-bg-color);\n",
              "    fill: var(--disabled-fill-color);\n",
              "    box-shadow: none;\n",
              "  }\n",
              "\n",
              "  .colab-df-spinner {\n",
              "    border: 2px solid var(--fill-color);\n",
              "    border-color: transparent;\n",
              "    border-bottom-color: var(--fill-color);\n",
              "    animation:\n",
              "      spin 1s steps(1) infinite;\n",
              "  }\n",
              "\n",
              "  @keyframes spin {\n",
              "    0% {\n",
              "      border-color: transparent;\n",
              "      border-bottom-color: var(--fill-color);\n",
              "      border-left-color: var(--fill-color);\n",
              "    }\n",
              "    20% {\n",
              "      border-color: transparent;\n",
              "      border-left-color: var(--fill-color);\n",
              "      border-top-color: var(--fill-color);\n",
              "    }\n",
              "    30% {\n",
              "      border-color: transparent;\n",
              "      border-left-color: var(--fill-color);\n",
              "      border-top-color: var(--fill-color);\n",
              "      border-right-color: var(--fill-color);\n",
              "    }\n",
              "    40% {\n",
              "      border-color: transparent;\n",
              "      border-right-color: var(--fill-color);\n",
              "      border-top-color: var(--fill-color);\n",
              "    }\n",
              "    60% {\n",
              "      border-color: transparent;\n",
              "      border-right-color: var(--fill-color);\n",
              "    }\n",
              "    80% {\n",
              "      border-color: transparent;\n",
              "      border-right-color: var(--fill-color);\n",
              "      border-bottom-color: var(--fill-color);\n",
              "    }\n",
              "    90% {\n",
              "      border-color: transparent;\n",
              "      border-bottom-color: var(--fill-color);\n",
              "    }\n",
              "  }\n",
              "</style>\n",
              "\n",
              "  <script>\n",
              "    async function quickchart(key) {\n",
              "      const quickchartButtonEl =\n",
              "        document.querySelector('#' + key + ' button');\n",
              "      quickchartButtonEl.disabled = true;  // To prevent multiple clicks.\n",
              "      quickchartButtonEl.classList.add('colab-df-spinner');\n",
              "      try {\n",
              "        const charts = await google.colab.kernel.invokeFunction(\n",
              "            'suggestCharts', [key], {});\n",
              "      } catch (error) {\n",
              "        console.error('Error during call to suggestCharts:', error);\n",
              "      }\n",
              "      quickchartButtonEl.classList.remove('colab-df-spinner');\n",
              "      quickchartButtonEl.classList.add('colab-df-quickchart-complete');\n",
              "    }\n",
              "    (() => {\n",
              "      let quickchartButtonEl =\n",
              "        document.querySelector('#df-8a5870b9-aa5d-407e-b997-e84fa5da182e button');\n",
              "      quickchartButtonEl.style.display =\n",
              "        google.colab.kernel.accessAllowed ? 'block' : 'none';\n",
              "    })();\n",
              "  </script>\n",
              "</div>\n",
              "    </div>\n",
              "  </div>\n"
            ],
            "application/vnd.google.colaboratory.intrinsic+json": {
              "type": "dataframe",
              "variable_name": "man",
              "summary": "{\n  \"name\": \"man\",\n  \"rows\": 4,\n  \"fields\": [\n    {\n      \"column\": \"Nome\",\n      \"properties\": {\n        \"dtype\": \"string\",\n        \"num_unique_values\": 4,\n        \"samples\": [\n          \"Nonato\",\n          \"Rudinei\",\n          \"Rodolfo\"\n        ],\n        \"semantic_type\": \"\",\n        \"description\": \"\"\n      }\n    },\n    {\n      \"column\": \"P1\",\n      \"properties\": {\n        \"dtype\": \"string\",\n        \"num_unique_values\": 4,\n        \"samples\": [\n          \"23\",\n          \"10\",\n          \"12\"\n        ],\n        \"semantic_type\": \"\",\n        \"description\": \"\"\n      }\n    },\n    {\n      \"column\": \"P2\",\n      \"properties\": {\n        \"dtype\": \"string\",\n        \"num_unique_values\": 4,\n        \"samples\": [\n          \"3\",\n          \"0\",\n          \"2\"\n        ],\n        \"semantic_type\": \"\",\n        \"description\": \"\"\n      }\n    },\n    {\n      \"column\": \"Frequencia\",\n      \"properties\": {\n        \"dtype\": \"string\",\n        \"num_unique_values\": 3,\n        \"samples\": [\n          \"75\",\n          \"80\",\n          \"60\"\n        ],\n        \"semantic_type\": \"\",\n        \"description\": \"\"\n      }\n    }\n  ]\n}"
            }
          },
          "metadata": {}
        },
        {
          "output_type": "stream",
          "name": "stdout",
          "text": [
            "\n"
          ]
        },
        {
          "output_type": "display_data",
          "data": {
            "text/plain": [
              "'Rodolfo'"
            ],
            "application/vnd.google.colaboratory.intrinsic+json": {
              "type": "string"
            }
          },
          "metadata": {}
        },
        {
          "output_type": "stream",
          "name": "stdout",
          "text": [
            "\n"
          ]
        },
        {
          "output_type": "display_data",
          "data": {
            "text/plain": [
              "Nome          Nonato\n",
              "P1                23\n",
              "P2                 3\n",
              "Frequencia        80\n",
              "Name: 598, dtype: object"
            ]
          },
          "metadata": {}
        },
        {
          "output_type": "stream",
          "name": "stdout",
          "text": [
            "\n"
          ]
        },
        {
          "output_type": "display_data",
          "data": {
            "text/plain": [
              "   nUSP     Nome    Curso  MediaPonderada\n",
              "0   123  Rodolfo  BCDADOS             8.0\n",
              "1   598   Nonato     BECD             7.5\n",
              "2   784   Simoes      BSI             7.8\n",
              "3   964  Rudinei      BCC             6.8"
            ],
            "text/html": [
              "\n",
              "  <div id=\"df-57e28162-0b9a-401d-aa95-cb5db51aa1d6\" class=\"colab-df-container\">\n",
              "    <div>\n",
              "<style scoped>\n",
              "    .dataframe tbody tr th:only-of-type {\n",
              "        vertical-align: middle;\n",
              "    }\n",
              "\n",
              "    .dataframe tbody tr th {\n",
              "        vertical-align: top;\n",
              "    }\n",
              "\n",
              "    .dataframe thead th {\n",
              "        text-align: right;\n",
              "    }\n",
              "</style>\n",
              "<table border=\"1\" class=\"dataframe\">\n",
              "  <thead>\n",
              "    <tr style=\"text-align: right;\">\n",
              "      <th></th>\n",
              "      <th>nUSP</th>\n",
              "      <th>Nome</th>\n",
              "      <th>Curso</th>\n",
              "      <th>MediaPonderada</th>\n",
              "    </tr>\n",
              "  </thead>\n",
              "  <tbody>\n",
              "    <tr>\n",
              "      <th>0</th>\n",
              "      <td>123</td>\n",
              "      <td>Rodolfo</td>\n",
              "      <td>BCDADOS</td>\n",
              "      <td>8.0</td>\n",
              "    </tr>\n",
              "    <tr>\n",
              "      <th>1</th>\n",
              "      <td>598</td>\n",
              "      <td>Nonato</td>\n",
              "      <td>BECD</td>\n",
              "      <td>7.5</td>\n",
              "    </tr>\n",
              "    <tr>\n",
              "      <th>2</th>\n",
              "      <td>784</td>\n",
              "      <td>Simoes</td>\n",
              "      <td>BSI</td>\n",
              "      <td>7.8</td>\n",
              "    </tr>\n",
              "    <tr>\n",
              "      <th>3</th>\n",
              "      <td>964</td>\n",
              "      <td>Rudinei</td>\n",
              "      <td>BCC</td>\n",
              "      <td>6.8</td>\n",
              "    </tr>\n",
              "  </tbody>\n",
              "</table>\n",
              "</div>\n",
              "    <div class=\"colab-df-buttons\">\n",
              "\n",
              "  <div class=\"colab-df-container\">\n",
              "    <button class=\"colab-df-convert\" onclick=\"convertToInteractive('df-57e28162-0b9a-401d-aa95-cb5db51aa1d6')\"\n",
              "            title=\"Convert this dataframe to an interactive table.\"\n",
              "            style=\"display:none;\">\n",
              "\n",
              "  <svg xmlns=\"http://www.w3.org/2000/svg\" height=\"24px\" viewBox=\"0 -960 960 960\">\n",
              "    <path d=\"M120-120v-720h720v720H120Zm60-500h600v-160H180v160Zm220 220h160v-160H400v160Zm0 220h160v-160H400v160ZM180-400h160v-160H180v160Zm440 0h160v-160H620v160ZM180-180h160v-160H180v160Zm440 0h160v-160H620v160Z\"/>\n",
              "  </svg>\n",
              "    </button>\n",
              "\n",
              "  <style>\n",
              "    .colab-df-container {\n",
              "      display:flex;\n",
              "      gap: 12px;\n",
              "    }\n",
              "\n",
              "    .colab-df-convert {\n",
              "      background-color: #E8F0FE;\n",
              "      border: none;\n",
              "      border-radius: 50%;\n",
              "      cursor: pointer;\n",
              "      display: none;\n",
              "      fill: #1967D2;\n",
              "      height: 32px;\n",
              "      padding: 0 0 0 0;\n",
              "      width: 32px;\n",
              "    }\n",
              "\n",
              "    .colab-df-convert:hover {\n",
              "      background-color: #E2EBFA;\n",
              "      box-shadow: 0px 1px 2px rgba(60, 64, 67, 0.3), 0px 1px 3px 1px rgba(60, 64, 67, 0.15);\n",
              "      fill: #174EA6;\n",
              "    }\n",
              "\n",
              "    .colab-df-buttons div {\n",
              "      margin-bottom: 4px;\n",
              "    }\n",
              "\n",
              "    [theme=dark] .colab-df-convert {\n",
              "      background-color: #3B4455;\n",
              "      fill: #D2E3FC;\n",
              "    }\n",
              "\n",
              "    [theme=dark] .colab-df-convert:hover {\n",
              "      background-color: #434B5C;\n",
              "      box-shadow: 0px 1px 3px 1px rgba(0, 0, 0, 0.15);\n",
              "      filter: drop-shadow(0px 1px 2px rgba(0, 0, 0, 0.3));\n",
              "      fill: #FFFFFF;\n",
              "    }\n",
              "  </style>\n",
              "\n",
              "    <script>\n",
              "      const buttonEl =\n",
              "        document.querySelector('#df-57e28162-0b9a-401d-aa95-cb5db51aa1d6 button.colab-df-convert');\n",
              "      buttonEl.style.display =\n",
              "        google.colab.kernel.accessAllowed ? 'block' : 'none';\n",
              "\n",
              "      async function convertToInteractive(key) {\n",
              "        const element = document.querySelector('#df-57e28162-0b9a-401d-aa95-cb5db51aa1d6');\n",
              "        const dataTable =\n",
              "          await google.colab.kernel.invokeFunction('convertToInteractive',\n",
              "                                                    [key], {});\n",
              "        if (!dataTable) return;\n",
              "\n",
              "        const docLinkHtml = 'Like what you see? Visit the ' +\n",
              "          '<a target=\"_blank\" href=https://colab.research.google.com/notebooks/data_table.ipynb>data table notebook</a>'\n",
              "          + ' to learn more about interactive tables.';\n",
              "        element.innerHTML = '';\n",
              "        dataTable['output_type'] = 'display_data';\n",
              "        await google.colab.output.renderOutput(dataTable, element);\n",
              "        const docLink = document.createElement('div');\n",
              "        docLink.innerHTML = docLinkHtml;\n",
              "        element.appendChild(docLink);\n",
              "      }\n",
              "    </script>\n",
              "  </div>\n",
              "\n",
              "\n",
              "<div id=\"df-00c007fe-c621-4639-a93e-51cf0420d24a\">\n",
              "  <button class=\"colab-df-quickchart\" onclick=\"quickchart('df-00c007fe-c621-4639-a93e-51cf0420d24a')\"\n",
              "            title=\"Suggest charts\"\n",
              "            style=\"display:none;\">\n",
              "\n",
              "<svg xmlns=\"http://www.w3.org/2000/svg\" height=\"24px\"viewBox=\"0 0 24 24\"\n",
              "     width=\"24px\">\n",
              "    <g>\n",
              "        <path d=\"M19 3H5c-1.1 0-2 .9-2 2v14c0 1.1.9 2 2 2h14c1.1 0 2-.9 2-2V5c0-1.1-.9-2-2-2zM9 17H7v-7h2v7zm4 0h-2V7h2v10zm4 0h-2v-4h2v4z\"/>\n",
              "    </g>\n",
              "</svg>\n",
              "  </button>\n",
              "\n",
              "<style>\n",
              "  .colab-df-quickchart {\n",
              "      --bg-color: #E8F0FE;\n",
              "      --fill-color: #1967D2;\n",
              "      --hover-bg-color: #E2EBFA;\n",
              "      --hover-fill-color: #174EA6;\n",
              "      --disabled-fill-color: #AAA;\n",
              "      --disabled-bg-color: #DDD;\n",
              "  }\n",
              "\n",
              "  [theme=dark] .colab-df-quickchart {\n",
              "      --bg-color: #3B4455;\n",
              "      --fill-color: #D2E3FC;\n",
              "      --hover-bg-color: #434B5C;\n",
              "      --hover-fill-color: #FFFFFF;\n",
              "      --disabled-bg-color: #3B4455;\n",
              "      --disabled-fill-color: #666;\n",
              "  }\n",
              "\n",
              "  .colab-df-quickchart {\n",
              "    background-color: var(--bg-color);\n",
              "    border: none;\n",
              "    border-radius: 50%;\n",
              "    cursor: pointer;\n",
              "    display: none;\n",
              "    fill: var(--fill-color);\n",
              "    height: 32px;\n",
              "    padding: 0;\n",
              "    width: 32px;\n",
              "  }\n",
              "\n",
              "  .colab-df-quickchart:hover {\n",
              "    background-color: var(--hover-bg-color);\n",
              "    box-shadow: 0 1px 2px rgba(60, 64, 67, 0.3), 0 1px 3px 1px rgba(60, 64, 67, 0.15);\n",
              "    fill: var(--button-hover-fill-color);\n",
              "  }\n",
              "\n",
              "  .colab-df-quickchart-complete:disabled,\n",
              "  .colab-df-quickchart-complete:disabled:hover {\n",
              "    background-color: var(--disabled-bg-color);\n",
              "    fill: var(--disabled-fill-color);\n",
              "    box-shadow: none;\n",
              "  }\n",
              "\n",
              "  .colab-df-spinner {\n",
              "    border: 2px solid var(--fill-color);\n",
              "    border-color: transparent;\n",
              "    border-bottom-color: var(--fill-color);\n",
              "    animation:\n",
              "      spin 1s steps(1) infinite;\n",
              "  }\n",
              "\n",
              "  @keyframes spin {\n",
              "    0% {\n",
              "      border-color: transparent;\n",
              "      border-bottom-color: var(--fill-color);\n",
              "      border-left-color: var(--fill-color);\n",
              "    }\n",
              "    20% {\n",
              "      border-color: transparent;\n",
              "      border-left-color: var(--fill-color);\n",
              "      border-top-color: var(--fill-color);\n",
              "    }\n",
              "    30% {\n",
              "      border-color: transparent;\n",
              "      border-left-color: var(--fill-color);\n",
              "      border-top-color: var(--fill-color);\n",
              "      border-right-color: var(--fill-color);\n",
              "    }\n",
              "    40% {\n",
              "      border-color: transparent;\n",
              "      border-right-color: var(--fill-color);\n",
              "      border-top-color: var(--fill-color);\n",
              "    }\n",
              "    60% {\n",
              "      border-color: transparent;\n",
              "      border-right-color: var(--fill-color);\n",
              "    }\n",
              "    80% {\n",
              "      border-color: transparent;\n",
              "      border-right-color: var(--fill-color);\n",
              "      border-bottom-color: var(--fill-color);\n",
              "    }\n",
              "    90% {\n",
              "      border-color: transparent;\n",
              "      border-bottom-color: var(--fill-color);\n",
              "    }\n",
              "  }\n",
              "</style>\n",
              "\n",
              "  <script>\n",
              "    async function quickchart(key) {\n",
              "      const quickchartButtonEl =\n",
              "        document.querySelector('#' + key + ' button');\n",
              "      quickchartButtonEl.disabled = true;  // To prevent multiple clicks.\n",
              "      quickchartButtonEl.classList.add('colab-df-spinner');\n",
              "      try {\n",
              "        const charts = await google.colab.kernel.invokeFunction(\n",
              "            'suggestCharts', [key], {});\n",
              "      } catch (error) {\n",
              "        console.error('Error during call to suggestCharts:', error);\n",
              "      }\n",
              "      quickchartButtonEl.classList.remove('colab-df-spinner');\n",
              "      quickchartButtonEl.classList.add('colab-df-quickchart-complete');\n",
              "    }\n",
              "    (() => {\n",
              "      let quickchartButtonEl =\n",
              "        document.querySelector('#df-00c007fe-c621-4639-a93e-51cf0420d24a button');\n",
              "      quickchartButtonEl.style.display =\n",
              "        google.colab.kernel.accessAllowed ? 'block' : 'none';\n",
              "    })();\n",
              "  </script>\n",
              "</div>\n",
              "    </div>\n",
              "  </div>\n"
            ],
            "application/vnd.google.colaboratory.intrinsic+json": {
              "type": "dataframe",
              "variable_name": "df",
              "summary": "{\n  \"name\": \"df\",\n  \"rows\": 4,\n  \"fields\": [\n    {\n      \"column\": \"nUSP\",\n      \"properties\": {\n        \"dtype\": \"number\",\n        \"std\": 361,\n        \"min\": 123,\n        \"max\": 964,\n        \"num_unique_values\": 4,\n        \"samples\": [\n          598,\n          964,\n          123\n        ],\n        \"semantic_type\": \"\",\n        \"description\": \"\"\n      }\n    },\n    {\n      \"column\": \"Nome\",\n      \"properties\": {\n        \"dtype\": \"string\",\n        \"num_unique_values\": 4,\n        \"samples\": [\n          \"Nonato\",\n          \"Rudinei\",\n          \"Rodolfo\"\n        ],\n        \"semantic_type\": \"\",\n        \"description\": \"\"\n      }\n    },\n    {\n      \"column\": \"Curso\",\n      \"properties\": {\n        \"dtype\": \"string\",\n        \"num_unique_values\": 4,\n        \"samples\": [\n          \"BECD\",\n          \"BCC\",\n          \"BCDADOS\"\n        ],\n        \"semantic_type\": \"\",\n        \"description\": \"\"\n      }\n    },\n    {\n      \"column\": \"MediaPonderada\",\n      \"properties\": {\n        \"dtype\": \"number\",\n        \"std\": 0.5251983752196244,\n        \"min\": 6.8,\n        \"max\": 8.0,\n        \"num_unique_values\": 4,\n        \"samples\": [\n          7.5,\n          6.8,\n          8.0\n        ],\n        \"semantic_type\": \"\",\n        \"description\": \"\"\n      }\n    }\n  ]\n}"
            }
          },
          "metadata": {}
        },
        {
          "output_type": "stream",
          "name": "stdout",
          "text": [
            "\n"
          ]
        },
        {
          "output_type": "display_data",
          "data": {
            "text/plain": [
              "0    123\n",
              "1    598\n",
              "2    784\n",
              "3    964\n",
              "Name: nUSP, dtype: int64"
            ]
          },
          "metadata": {}
        },
        {
          "output_type": "display_data",
          "data": {
            "text/plain": [
              "   nUSP     Nome    Curso  MediaPonderada\n",
              "0   123  Rodolfo  BCDADOS             8.0\n",
              "1   598   Nonato     BECD             7.5\n",
              "2   784   Simoes      BSI             7.8"
            ],
            "text/html": [
              "\n",
              "  <div id=\"df-a8e1158c-5933-4349-956b-1ae887558ade\" class=\"colab-df-container\">\n",
              "    <div>\n",
              "<style scoped>\n",
              "    .dataframe tbody tr th:only-of-type {\n",
              "        vertical-align: middle;\n",
              "    }\n",
              "\n",
              "    .dataframe tbody tr th {\n",
              "        vertical-align: top;\n",
              "    }\n",
              "\n",
              "    .dataframe thead th {\n",
              "        text-align: right;\n",
              "    }\n",
              "</style>\n",
              "<table border=\"1\" class=\"dataframe\">\n",
              "  <thead>\n",
              "    <tr style=\"text-align: right;\">\n",
              "      <th></th>\n",
              "      <th>nUSP</th>\n",
              "      <th>Nome</th>\n",
              "      <th>Curso</th>\n",
              "      <th>MediaPonderada</th>\n",
              "    </tr>\n",
              "  </thead>\n",
              "  <tbody>\n",
              "    <tr>\n",
              "      <th>0</th>\n",
              "      <td>123</td>\n",
              "      <td>Rodolfo</td>\n",
              "      <td>BCDADOS</td>\n",
              "      <td>8.0</td>\n",
              "    </tr>\n",
              "    <tr>\n",
              "      <th>1</th>\n",
              "      <td>598</td>\n",
              "      <td>Nonato</td>\n",
              "      <td>BECD</td>\n",
              "      <td>7.5</td>\n",
              "    </tr>\n",
              "    <tr>\n",
              "      <th>2</th>\n",
              "      <td>784</td>\n",
              "      <td>Simoes</td>\n",
              "      <td>BSI</td>\n",
              "      <td>7.8</td>\n",
              "    </tr>\n",
              "  </tbody>\n",
              "</table>\n",
              "</div>\n",
              "    <div class=\"colab-df-buttons\">\n",
              "\n",
              "  <div class=\"colab-df-container\">\n",
              "    <button class=\"colab-df-convert\" onclick=\"convertToInteractive('df-a8e1158c-5933-4349-956b-1ae887558ade')\"\n",
              "            title=\"Convert this dataframe to an interactive table.\"\n",
              "            style=\"display:none;\">\n",
              "\n",
              "  <svg xmlns=\"http://www.w3.org/2000/svg\" height=\"24px\" viewBox=\"0 -960 960 960\">\n",
              "    <path d=\"M120-120v-720h720v720H120Zm60-500h600v-160H180v160Zm220 220h160v-160H400v160Zm0 220h160v-160H400v160ZM180-400h160v-160H180v160Zm440 0h160v-160H620v160ZM180-180h160v-160H180v160Zm440 0h160v-160H620v160Z\"/>\n",
              "  </svg>\n",
              "    </button>\n",
              "\n",
              "  <style>\n",
              "    .colab-df-container {\n",
              "      display:flex;\n",
              "      gap: 12px;\n",
              "    }\n",
              "\n",
              "    .colab-df-convert {\n",
              "      background-color: #E8F0FE;\n",
              "      border: none;\n",
              "      border-radius: 50%;\n",
              "      cursor: pointer;\n",
              "      display: none;\n",
              "      fill: #1967D2;\n",
              "      height: 32px;\n",
              "      padding: 0 0 0 0;\n",
              "      width: 32px;\n",
              "    }\n",
              "\n",
              "    .colab-df-convert:hover {\n",
              "      background-color: #E2EBFA;\n",
              "      box-shadow: 0px 1px 2px rgba(60, 64, 67, 0.3), 0px 1px 3px 1px rgba(60, 64, 67, 0.15);\n",
              "      fill: #174EA6;\n",
              "    }\n",
              "\n",
              "    .colab-df-buttons div {\n",
              "      margin-bottom: 4px;\n",
              "    }\n",
              "\n",
              "    [theme=dark] .colab-df-convert {\n",
              "      background-color: #3B4455;\n",
              "      fill: #D2E3FC;\n",
              "    }\n",
              "\n",
              "    [theme=dark] .colab-df-convert:hover {\n",
              "      background-color: #434B5C;\n",
              "      box-shadow: 0px 1px 3px 1px rgba(0, 0, 0, 0.15);\n",
              "      filter: drop-shadow(0px 1px 2px rgba(0, 0, 0, 0.3));\n",
              "      fill: #FFFFFF;\n",
              "    }\n",
              "  </style>\n",
              "\n",
              "    <script>\n",
              "      const buttonEl =\n",
              "        document.querySelector('#df-a8e1158c-5933-4349-956b-1ae887558ade button.colab-df-convert');\n",
              "      buttonEl.style.display =\n",
              "        google.colab.kernel.accessAllowed ? 'block' : 'none';\n",
              "\n",
              "      async function convertToInteractive(key) {\n",
              "        const element = document.querySelector('#df-a8e1158c-5933-4349-956b-1ae887558ade');\n",
              "        const dataTable =\n",
              "          await google.colab.kernel.invokeFunction('convertToInteractive',\n",
              "                                                    [key], {});\n",
              "        if (!dataTable) return;\n",
              "\n",
              "        const docLinkHtml = 'Like what you see? Visit the ' +\n",
              "          '<a target=\"_blank\" href=https://colab.research.google.com/notebooks/data_table.ipynb>data table notebook</a>'\n",
              "          + ' to learn more about interactive tables.';\n",
              "        element.innerHTML = '';\n",
              "        dataTable['output_type'] = 'display_data';\n",
              "        await google.colab.output.renderOutput(dataTable, element);\n",
              "        const docLink = document.createElement('div');\n",
              "        docLink.innerHTML = docLinkHtml;\n",
              "        element.appendChild(docLink);\n",
              "      }\n",
              "    </script>\n",
              "  </div>\n",
              "\n",
              "\n",
              "<div id=\"df-8bac2ed1-7c65-4c48-b6c7-c9891853177f\">\n",
              "  <button class=\"colab-df-quickchart\" onclick=\"quickchart('df-8bac2ed1-7c65-4c48-b6c7-c9891853177f')\"\n",
              "            title=\"Suggest charts\"\n",
              "            style=\"display:none;\">\n",
              "\n",
              "<svg xmlns=\"http://www.w3.org/2000/svg\" height=\"24px\"viewBox=\"0 0 24 24\"\n",
              "     width=\"24px\">\n",
              "    <g>\n",
              "        <path d=\"M19 3H5c-1.1 0-2 .9-2 2v14c0 1.1.9 2 2 2h14c1.1 0 2-.9 2-2V5c0-1.1-.9-2-2-2zM9 17H7v-7h2v7zm4 0h-2V7h2v10zm4 0h-2v-4h2v4z\"/>\n",
              "    </g>\n",
              "</svg>\n",
              "  </button>\n",
              "\n",
              "<style>\n",
              "  .colab-df-quickchart {\n",
              "      --bg-color: #E8F0FE;\n",
              "      --fill-color: #1967D2;\n",
              "      --hover-bg-color: #E2EBFA;\n",
              "      --hover-fill-color: #174EA6;\n",
              "      --disabled-fill-color: #AAA;\n",
              "      --disabled-bg-color: #DDD;\n",
              "  }\n",
              "\n",
              "  [theme=dark] .colab-df-quickchart {\n",
              "      --bg-color: #3B4455;\n",
              "      --fill-color: #D2E3FC;\n",
              "      --hover-bg-color: #434B5C;\n",
              "      --hover-fill-color: #FFFFFF;\n",
              "      --disabled-bg-color: #3B4455;\n",
              "      --disabled-fill-color: #666;\n",
              "  }\n",
              "\n",
              "  .colab-df-quickchart {\n",
              "    background-color: var(--bg-color);\n",
              "    border: none;\n",
              "    border-radius: 50%;\n",
              "    cursor: pointer;\n",
              "    display: none;\n",
              "    fill: var(--fill-color);\n",
              "    height: 32px;\n",
              "    padding: 0;\n",
              "    width: 32px;\n",
              "  }\n",
              "\n",
              "  .colab-df-quickchart:hover {\n",
              "    background-color: var(--hover-bg-color);\n",
              "    box-shadow: 0 1px 2px rgba(60, 64, 67, 0.3), 0 1px 3px 1px rgba(60, 64, 67, 0.15);\n",
              "    fill: var(--button-hover-fill-color);\n",
              "  }\n",
              "\n",
              "  .colab-df-quickchart-complete:disabled,\n",
              "  .colab-df-quickchart-complete:disabled:hover {\n",
              "    background-color: var(--disabled-bg-color);\n",
              "    fill: var(--disabled-fill-color);\n",
              "    box-shadow: none;\n",
              "  }\n",
              "\n",
              "  .colab-df-spinner {\n",
              "    border: 2px solid var(--fill-color);\n",
              "    border-color: transparent;\n",
              "    border-bottom-color: var(--fill-color);\n",
              "    animation:\n",
              "      spin 1s steps(1) infinite;\n",
              "  }\n",
              "\n",
              "  @keyframes spin {\n",
              "    0% {\n",
              "      border-color: transparent;\n",
              "      border-bottom-color: var(--fill-color);\n",
              "      border-left-color: var(--fill-color);\n",
              "    }\n",
              "    20% {\n",
              "      border-color: transparent;\n",
              "      border-left-color: var(--fill-color);\n",
              "      border-top-color: var(--fill-color);\n",
              "    }\n",
              "    30% {\n",
              "      border-color: transparent;\n",
              "      border-left-color: var(--fill-color);\n",
              "      border-top-color: var(--fill-color);\n",
              "      border-right-color: var(--fill-color);\n",
              "    }\n",
              "    40% {\n",
              "      border-color: transparent;\n",
              "      border-right-color: var(--fill-color);\n",
              "      border-top-color: var(--fill-color);\n",
              "    }\n",
              "    60% {\n",
              "      border-color: transparent;\n",
              "      border-right-color: var(--fill-color);\n",
              "    }\n",
              "    80% {\n",
              "      border-color: transparent;\n",
              "      border-right-color: var(--fill-color);\n",
              "      border-bottom-color: var(--fill-color);\n",
              "    }\n",
              "    90% {\n",
              "      border-color: transparent;\n",
              "      border-bottom-color: var(--fill-color);\n",
              "    }\n",
              "  }\n",
              "</style>\n",
              "\n",
              "  <script>\n",
              "    async function quickchart(key) {\n",
              "      const quickchartButtonEl =\n",
              "        document.querySelector('#' + key + ' button');\n",
              "      quickchartButtonEl.disabled = true;  // To prevent multiple clicks.\n",
              "      quickchartButtonEl.classList.add('colab-df-spinner');\n",
              "      try {\n",
              "        const charts = await google.colab.kernel.invokeFunction(\n",
              "            'suggestCharts', [key], {});\n",
              "      } catch (error) {\n",
              "        console.error('Error during call to suggestCharts:', error);\n",
              "      }\n",
              "      quickchartButtonEl.classList.remove('colab-df-spinner');\n",
              "      quickchartButtonEl.classList.add('colab-df-quickchart-complete');\n",
              "    }\n",
              "    (() => {\n",
              "      let quickchartButtonEl =\n",
              "        document.querySelector('#df-8bac2ed1-7c65-4c48-b6c7-c9891853177f button');\n",
              "      quickchartButtonEl.style.display =\n",
              "        google.colab.kernel.accessAllowed ? 'block' : 'none';\n",
              "    })();\n",
              "  </script>\n",
              "</div>\n",
              "    </div>\n",
              "  </div>\n"
            ],
            "application/vnd.google.colaboratory.intrinsic+json": {
              "type": "dataframe",
              "summary": "{\n  \"name\": \"df\",\n  \"rows\": 3,\n  \"fields\": [\n    {\n      \"column\": \"nUSP\",\n      \"properties\": {\n        \"dtype\": \"number\",\n        \"std\": 340,\n        \"min\": 123,\n        \"max\": 784,\n        \"num_unique_values\": 3,\n        \"samples\": [\n          123,\n          598,\n          784\n        ],\n        \"semantic_type\": \"\",\n        \"description\": \"\"\n      }\n    },\n    {\n      \"column\": \"Nome\",\n      \"properties\": {\n        \"dtype\": \"string\",\n        \"num_unique_values\": 3,\n        \"samples\": [\n          \"Rodolfo\",\n          \"Nonato\",\n          \"Simoes\"\n        ],\n        \"semantic_type\": \"\",\n        \"description\": \"\"\n      }\n    },\n    {\n      \"column\": \"Curso\",\n      \"properties\": {\n        \"dtype\": \"string\",\n        \"num_unique_values\": 3,\n        \"samples\": [\n          \"BCDADOS\",\n          \"BECD\",\n          \"BSI\"\n        ],\n        \"semantic_type\": \"\",\n        \"description\": \"\"\n      }\n    },\n    {\n      \"column\": \"MediaPonderada\",\n      \"properties\": {\n        \"dtype\": \"number\",\n        \"std\": 0.2516611478423583,\n        \"min\": 7.5,\n        \"max\": 8.0,\n        \"num_unique_values\": 3,\n        \"samples\": [\n          8.0,\n          7.5,\n          7.8\n        ],\n        \"semantic_type\": \"\",\n        \"description\": \"\"\n      }\n    }\n  ]\n}"
            }
          },
          "metadata": {}
        },
        {
          "output_type": "stream",
          "name": "stdout",
          "text": [
            "\n"
          ]
        },
        {
          "output_type": "display_data",
          "data": {
            "text/plain": [
              "7.525"
            ]
          },
          "metadata": {}
        },
        {
          "output_type": "execute_result",
          "data": {
            "text/plain": [
              "7.433333333333334"
            ]
          },
          "metadata": {},
          "execution_count": 56
        }
      ]
    },
    {
      "cell_type": "code",
      "source": [
        "#iniciando com um dataset\n",
        "\n",
        "df_califa= pd.read_csv('sample_data/california_housing_train.csv',delimiter=',')\n",
        "display(df_califa)\n",
        "\n",
        "df_califa['total_bedrooms'].mean()\n",
        "df_califa.median()-df_califa.mean()\n",
        "df_califa.loc[8]"
      ],
      "metadata": {
        "colab": {
          "base_uri": "https://localhost:8080/",
          "height": 602
        },
        "id": "l_IzI02y067c",
        "outputId": "04a43730-0e61-483d-dc31-9593a2858cce"
      },
      "execution_count": null,
      "outputs": [
        {
          "output_type": "display_data",
          "data": {
            "text/plain": [
              "       longitude  latitude  housing_median_age  total_rooms  total_bedrooms  \\\n",
              "0        -114.31     34.19                15.0       5612.0          1283.0   \n",
              "1        -114.47     34.40                19.0       7650.0          1901.0   \n",
              "2        -114.56     33.69                17.0        720.0           174.0   \n",
              "3        -114.57     33.64                14.0       1501.0           337.0   \n",
              "4        -114.57     33.57                20.0       1454.0           326.0   \n",
              "...          ...       ...                 ...          ...             ...   \n",
              "16995    -124.26     40.58                52.0       2217.0           394.0   \n",
              "16996    -124.27     40.69                36.0       2349.0           528.0   \n",
              "16997    -124.30     41.84                17.0       2677.0           531.0   \n",
              "16998    -124.30     41.80                19.0       2672.0           552.0   \n",
              "16999    -124.35     40.54                52.0       1820.0           300.0   \n",
              "\n",
              "       population  households  median_income  median_house_value  \n",
              "0          1015.0       472.0         1.4936             66900.0  \n",
              "1          1129.0       463.0         1.8200             80100.0  \n",
              "2           333.0       117.0         1.6509             85700.0  \n",
              "3           515.0       226.0         3.1917             73400.0  \n",
              "4           624.0       262.0         1.9250             65500.0  \n",
              "...           ...         ...            ...                 ...  \n",
              "16995       907.0       369.0         2.3571            111400.0  \n",
              "16996      1194.0       465.0         2.5179             79000.0  \n",
              "16997      1244.0       456.0         3.0313            103600.0  \n",
              "16998      1298.0       478.0         1.9797             85800.0  \n",
              "16999       806.0       270.0         3.0147             94600.0  \n",
              "\n",
              "[17000 rows x 9 columns]"
            ],
            "text/html": [
              "\n",
              "  <div id=\"df-80abda66-407f-47ac-9794-fd0cd6a993fb\" class=\"colab-df-container\">\n",
              "    <div>\n",
              "<style scoped>\n",
              "    .dataframe tbody tr th:only-of-type {\n",
              "        vertical-align: middle;\n",
              "    }\n",
              "\n",
              "    .dataframe tbody tr th {\n",
              "        vertical-align: top;\n",
              "    }\n",
              "\n",
              "    .dataframe thead th {\n",
              "        text-align: right;\n",
              "    }\n",
              "</style>\n",
              "<table border=\"1\" class=\"dataframe\">\n",
              "  <thead>\n",
              "    <tr style=\"text-align: right;\">\n",
              "      <th></th>\n",
              "      <th>longitude</th>\n",
              "      <th>latitude</th>\n",
              "      <th>housing_median_age</th>\n",
              "      <th>total_rooms</th>\n",
              "      <th>total_bedrooms</th>\n",
              "      <th>population</th>\n",
              "      <th>households</th>\n",
              "      <th>median_income</th>\n",
              "      <th>median_house_value</th>\n",
              "    </tr>\n",
              "  </thead>\n",
              "  <tbody>\n",
              "    <tr>\n",
              "      <th>0</th>\n",
              "      <td>-114.31</td>\n",
              "      <td>34.19</td>\n",
              "      <td>15.0</td>\n",
              "      <td>5612.0</td>\n",
              "      <td>1283.0</td>\n",
              "      <td>1015.0</td>\n",
              "      <td>472.0</td>\n",
              "      <td>1.4936</td>\n",
              "      <td>66900.0</td>\n",
              "    </tr>\n",
              "    <tr>\n",
              "      <th>1</th>\n",
              "      <td>-114.47</td>\n",
              "      <td>34.40</td>\n",
              "      <td>19.0</td>\n",
              "      <td>7650.0</td>\n",
              "      <td>1901.0</td>\n",
              "      <td>1129.0</td>\n",
              "      <td>463.0</td>\n",
              "      <td>1.8200</td>\n",
              "      <td>80100.0</td>\n",
              "    </tr>\n",
              "    <tr>\n",
              "      <th>2</th>\n",
              "      <td>-114.56</td>\n",
              "      <td>33.69</td>\n",
              "      <td>17.0</td>\n",
              "      <td>720.0</td>\n",
              "      <td>174.0</td>\n",
              "      <td>333.0</td>\n",
              "      <td>117.0</td>\n",
              "      <td>1.6509</td>\n",
              "      <td>85700.0</td>\n",
              "    </tr>\n",
              "    <tr>\n",
              "      <th>3</th>\n",
              "      <td>-114.57</td>\n",
              "      <td>33.64</td>\n",
              "      <td>14.0</td>\n",
              "      <td>1501.0</td>\n",
              "      <td>337.0</td>\n",
              "      <td>515.0</td>\n",
              "      <td>226.0</td>\n",
              "      <td>3.1917</td>\n",
              "      <td>73400.0</td>\n",
              "    </tr>\n",
              "    <tr>\n",
              "      <th>4</th>\n",
              "      <td>-114.57</td>\n",
              "      <td>33.57</td>\n",
              "      <td>20.0</td>\n",
              "      <td>1454.0</td>\n",
              "      <td>326.0</td>\n",
              "      <td>624.0</td>\n",
              "      <td>262.0</td>\n",
              "      <td>1.9250</td>\n",
              "      <td>65500.0</td>\n",
              "    </tr>\n",
              "    <tr>\n",
              "      <th>...</th>\n",
              "      <td>...</td>\n",
              "      <td>...</td>\n",
              "      <td>...</td>\n",
              "      <td>...</td>\n",
              "      <td>...</td>\n",
              "      <td>...</td>\n",
              "      <td>...</td>\n",
              "      <td>...</td>\n",
              "      <td>...</td>\n",
              "    </tr>\n",
              "    <tr>\n",
              "      <th>16995</th>\n",
              "      <td>-124.26</td>\n",
              "      <td>40.58</td>\n",
              "      <td>52.0</td>\n",
              "      <td>2217.0</td>\n",
              "      <td>394.0</td>\n",
              "      <td>907.0</td>\n",
              "      <td>369.0</td>\n",
              "      <td>2.3571</td>\n",
              "      <td>111400.0</td>\n",
              "    </tr>\n",
              "    <tr>\n",
              "      <th>16996</th>\n",
              "      <td>-124.27</td>\n",
              "      <td>40.69</td>\n",
              "      <td>36.0</td>\n",
              "      <td>2349.0</td>\n",
              "      <td>528.0</td>\n",
              "      <td>1194.0</td>\n",
              "      <td>465.0</td>\n",
              "      <td>2.5179</td>\n",
              "      <td>79000.0</td>\n",
              "    </tr>\n",
              "    <tr>\n",
              "      <th>16997</th>\n",
              "      <td>-124.30</td>\n",
              "      <td>41.84</td>\n",
              "      <td>17.0</td>\n",
              "      <td>2677.0</td>\n",
              "      <td>531.0</td>\n",
              "      <td>1244.0</td>\n",
              "      <td>456.0</td>\n",
              "      <td>3.0313</td>\n",
              "      <td>103600.0</td>\n",
              "    </tr>\n",
              "    <tr>\n",
              "      <th>16998</th>\n",
              "      <td>-124.30</td>\n",
              "      <td>41.80</td>\n",
              "      <td>19.0</td>\n",
              "      <td>2672.0</td>\n",
              "      <td>552.0</td>\n",
              "      <td>1298.0</td>\n",
              "      <td>478.0</td>\n",
              "      <td>1.9797</td>\n",
              "      <td>85800.0</td>\n",
              "    </tr>\n",
              "    <tr>\n",
              "      <th>16999</th>\n",
              "      <td>-124.35</td>\n",
              "      <td>40.54</td>\n",
              "      <td>52.0</td>\n",
              "      <td>1820.0</td>\n",
              "      <td>300.0</td>\n",
              "      <td>806.0</td>\n",
              "      <td>270.0</td>\n",
              "      <td>3.0147</td>\n",
              "      <td>94600.0</td>\n",
              "    </tr>\n",
              "  </tbody>\n",
              "</table>\n",
              "<p>17000 rows × 9 columns</p>\n",
              "</div>\n",
              "    <div class=\"colab-df-buttons\">\n",
              "\n",
              "  <div class=\"colab-df-container\">\n",
              "    <button class=\"colab-df-convert\" onclick=\"convertToInteractive('df-80abda66-407f-47ac-9794-fd0cd6a993fb')\"\n",
              "            title=\"Convert this dataframe to an interactive table.\"\n",
              "            style=\"display:none;\">\n",
              "\n",
              "  <svg xmlns=\"http://www.w3.org/2000/svg\" height=\"24px\" viewBox=\"0 -960 960 960\">\n",
              "    <path d=\"M120-120v-720h720v720H120Zm60-500h600v-160H180v160Zm220 220h160v-160H400v160Zm0 220h160v-160H400v160ZM180-400h160v-160H180v160Zm440 0h160v-160H620v160ZM180-180h160v-160H180v160Zm440 0h160v-160H620v160Z\"/>\n",
              "  </svg>\n",
              "    </button>\n",
              "\n",
              "  <style>\n",
              "    .colab-df-container {\n",
              "      display:flex;\n",
              "      gap: 12px;\n",
              "    }\n",
              "\n",
              "    .colab-df-convert {\n",
              "      background-color: #E8F0FE;\n",
              "      border: none;\n",
              "      border-radius: 50%;\n",
              "      cursor: pointer;\n",
              "      display: none;\n",
              "      fill: #1967D2;\n",
              "      height: 32px;\n",
              "      padding: 0 0 0 0;\n",
              "      width: 32px;\n",
              "    }\n",
              "\n",
              "    .colab-df-convert:hover {\n",
              "      background-color: #E2EBFA;\n",
              "      box-shadow: 0px 1px 2px rgba(60, 64, 67, 0.3), 0px 1px 3px 1px rgba(60, 64, 67, 0.15);\n",
              "      fill: #174EA6;\n",
              "    }\n",
              "\n",
              "    .colab-df-buttons div {\n",
              "      margin-bottom: 4px;\n",
              "    }\n",
              "\n",
              "    [theme=dark] .colab-df-convert {\n",
              "      background-color: #3B4455;\n",
              "      fill: #D2E3FC;\n",
              "    }\n",
              "\n",
              "    [theme=dark] .colab-df-convert:hover {\n",
              "      background-color: #434B5C;\n",
              "      box-shadow: 0px 1px 3px 1px rgba(0, 0, 0, 0.15);\n",
              "      filter: drop-shadow(0px 1px 2px rgba(0, 0, 0, 0.3));\n",
              "      fill: #FFFFFF;\n",
              "    }\n",
              "  </style>\n",
              "\n",
              "    <script>\n",
              "      const buttonEl =\n",
              "        document.querySelector('#df-80abda66-407f-47ac-9794-fd0cd6a993fb button.colab-df-convert');\n",
              "      buttonEl.style.display =\n",
              "        google.colab.kernel.accessAllowed ? 'block' : 'none';\n",
              "\n",
              "      async function convertToInteractive(key) {\n",
              "        const element = document.querySelector('#df-80abda66-407f-47ac-9794-fd0cd6a993fb');\n",
              "        const dataTable =\n",
              "          await google.colab.kernel.invokeFunction('convertToInteractive',\n",
              "                                                    [key], {});\n",
              "        if (!dataTable) return;\n",
              "\n",
              "        const docLinkHtml = 'Like what you see? Visit the ' +\n",
              "          '<a target=\"_blank\" href=https://colab.research.google.com/notebooks/data_table.ipynb>data table notebook</a>'\n",
              "          + ' to learn more about interactive tables.';\n",
              "        element.innerHTML = '';\n",
              "        dataTable['output_type'] = 'display_data';\n",
              "        await google.colab.output.renderOutput(dataTable, element);\n",
              "        const docLink = document.createElement('div');\n",
              "        docLink.innerHTML = docLinkHtml;\n",
              "        element.appendChild(docLink);\n",
              "      }\n",
              "    </script>\n",
              "  </div>\n",
              "\n",
              "\n",
              "<div id=\"df-bd71816a-a814-469a-8338-9ea617d34161\">\n",
              "  <button class=\"colab-df-quickchart\" onclick=\"quickchart('df-bd71816a-a814-469a-8338-9ea617d34161')\"\n",
              "            title=\"Suggest charts\"\n",
              "            style=\"display:none;\">\n",
              "\n",
              "<svg xmlns=\"http://www.w3.org/2000/svg\" height=\"24px\"viewBox=\"0 0 24 24\"\n",
              "     width=\"24px\">\n",
              "    <g>\n",
              "        <path d=\"M19 3H5c-1.1 0-2 .9-2 2v14c0 1.1.9 2 2 2h14c1.1 0 2-.9 2-2V5c0-1.1-.9-2-2-2zM9 17H7v-7h2v7zm4 0h-2V7h2v10zm4 0h-2v-4h2v4z\"/>\n",
              "    </g>\n",
              "</svg>\n",
              "  </button>\n",
              "\n",
              "<style>\n",
              "  .colab-df-quickchart {\n",
              "      --bg-color: #E8F0FE;\n",
              "      --fill-color: #1967D2;\n",
              "      --hover-bg-color: #E2EBFA;\n",
              "      --hover-fill-color: #174EA6;\n",
              "      --disabled-fill-color: #AAA;\n",
              "      --disabled-bg-color: #DDD;\n",
              "  }\n",
              "\n",
              "  [theme=dark] .colab-df-quickchart {\n",
              "      --bg-color: #3B4455;\n",
              "      --fill-color: #D2E3FC;\n",
              "      --hover-bg-color: #434B5C;\n",
              "      --hover-fill-color: #FFFFFF;\n",
              "      --disabled-bg-color: #3B4455;\n",
              "      --disabled-fill-color: #666;\n",
              "  }\n",
              "\n",
              "  .colab-df-quickchart {\n",
              "    background-color: var(--bg-color);\n",
              "    border: none;\n",
              "    border-radius: 50%;\n",
              "    cursor: pointer;\n",
              "    display: none;\n",
              "    fill: var(--fill-color);\n",
              "    height: 32px;\n",
              "    padding: 0;\n",
              "    width: 32px;\n",
              "  }\n",
              "\n",
              "  .colab-df-quickchart:hover {\n",
              "    background-color: var(--hover-bg-color);\n",
              "    box-shadow: 0 1px 2px rgba(60, 64, 67, 0.3), 0 1px 3px 1px rgba(60, 64, 67, 0.15);\n",
              "    fill: var(--button-hover-fill-color);\n",
              "  }\n",
              "\n",
              "  .colab-df-quickchart-complete:disabled,\n",
              "  .colab-df-quickchart-complete:disabled:hover {\n",
              "    background-color: var(--disabled-bg-color);\n",
              "    fill: var(--disabled-fill-color);\n",
              "    box-shadow: none;\n",
              "  }\n",
              "\n",
              "  .colab-df-spinner {\n",
              "    border: 2px solid var(--fill-color);\n",
              "    border-color: transparent;\n",
              "    border-bottom-color: var(--fill-color);\n",
              "    animation:\n",
              "      spin 1s steps(1) infinite;\n",
              "  }\n",
              "\n",
              "  @keyframes spin {\n",
              "    0% {\n",
              "      border-color: transparent;\n",
              "      border-bottom-color: var(--fill-color);\n",
              "      border-left-color: var(--fill-color);\n",
              "    }\n",
              "    20% {\n",
              "      border-color: transparent;\n",
              "      border-left-color: var(--fill-color);\n",
              "      border-top-color: var(--fill-color);\n",
              "    }\n",
              "    30% {\n",
              "      border-color: transparent;\n",
              "      border-left-color: var(--fill-color);\n",
              "      border-top-color: var(--fill-color);\n",
              "      border-right-color: var(--fill-color);\n",
              "    }\n",
              "    40% {\n",
              "      border-color: transparent;\n",
              "      border-right-color: var(--fill-color);\n",
              "      border-top-color: var(--fill-color);\n",
              "    }\n",
              "    60% {\n",
              "      border-color: transparent;\n",
              "      border-right-color: var(--fill-color);\n",
              "    }\n",
              "    80% {\n",
              "      border-color: transparent;\n",
              "      border-right-color: var(--fill-color);\n",
              "      border-bottom-color: var(--fill-color);\n",
              "    }\n",
              "    90% {\n",
              "      border-color: transparent;\n",
              "      border-bottom-color: var(--fill-color);\n",
              "    }\n",
              "  }\n",
              "</style>\n",
              "\n",
              "  <script>\n",
              "    async function quickchart(key) {\n",
              "      const quickchartButtonEl =\n",
              "        document.querySelector('#' + key + ' button');\n",
              "      quickchartButtonEl.disabled = true;  // To prevent multiple clicks.\n",
              "      quickchartButtonEl.classList.add('colab-df-spinner');\n",
              "      try {\n",
              "        const charts = await google.colab.kernel.invokeFunction(\n",
              "            'suggestCharts', [key], {});\n",
              "      } catch (error) {\n",
              "        console.error('Error during call to suggestCharts:', error);\n",
              "      }\n",
              "      quickchartButtonEl.classList.remove('colab-df-spinner');\n",
              "      quickchartButtonEl.classList.add('colab-df-quickchart-complete');\n",
              "    }\n",
              "    (() => {\n",
              "      let quickchartButtonEl =\n",
              "        document.querySelector('#df-bd71816a-a814-469a-8338-9ea617d34161 button');\n",
              "      quickchartButtonEl.style.display =\n",
              "        google.colab.kernel.accessAllowed ? 'block' : 'none';\n",
              "    })();\n",
              "  </script>\n",
              "</div>\n",
              "    </div>\n",
              "  </div>\n"
            ],
            "application/vnd.google.colaboratory.intrinsic+json": {
              "type": "dataframe",
              "variable_name": "df_califa",
              "summary": "{\n  \"name\": \"df_califa\",\n  \"rows\": 17000,\n  \"fields\": [\n    {\n      \"column\": \"longitude\",\n      \"properties\": {\n        \"dtype\": \"number\",\n        \"std\": 2.0051664084261778,\n        \"min\": -124.35,\n        \"max\": -114.31,\n        \"num_unique_values\": 827,\n        \"samples\": [\n          -117.56,\n          -123.32,\n          -118.26\n        ],\n        \"semantic_type\": \"\",\n        \"description\": \"\"\n      }\n    },\n    {\n      \"column\": \"latitude\",\n      \"properties\": {\n        \"dtype\": \"number\",\n        \"std\": 2.1373397946570836,\n        \"min\": 32.54,\n        \"max\": 41.95,\n        \"num_unique_values\": 840,\n        \"samples\": [\n          38.44,\n          40.79,\n          32.69\n        ],\n        \"semantic_type\": \"\",\n        \"description\": \"\"\n      }\n    },\n    {\n      \"column\": \"housing_median_age\",\n      \"properties\": {\n        \"dtype\": \"number\",\n        \"std\": 12.586936981660399,\n        \"min\": 1.0,\n        \"max\": 52.0,\n        \"num_unique_values\": 52,\n        \"samples\": [\n          23.0,\n          52.0,\n          47.0\n        ],\n        \"semantic_type\": \"\",\n        \"description\": \"\"\n      }\n    },\n    {\n      \"column\": \"total_rooms\",\n      \"properties\": {\n        \"dtype\": \"number\",\n        \"std\": 2179.947071452767,\n        \"min\": 2.0,\n        \"max\": 37937.0,\n        \"num_unique_values\": 5533,\n        \"samples\": [\n          3564.0,\n          6955.0,\n          5451.0\n        ],\n        \"semantic_type\": \"\",\n        \"description\": \"\"\n      }\n    },\n    {\n      \"column\": \"total_bedrooms\",\n      \"properties\": {\n        \"dtype\": \"number\",\n        \"std\": 421.4994515798646,\n        \"min\": 1.0,\n        \"max\": 6445.0,\n        \"num_unique_values\": 1848,\n        \"samples\": [\n          729.0,\n          719.0,\n          2075.0\n        ],\n        \"semantic_type\": \"\",\n        \"description\": \"\"\n      }\n    },\n    {\n      \"column\": \"population\",\n      \"properties\": {\n        \"dtype\": \"number\",\n        \"std\": 1147.8529591595266,\n        \"min\": 3.0,\n        \"max\": 35682.0,\n        \"num_unique_values\": 3683,\n        \"samples\": [\n          249.0,\n          1735.0,\n          235.0\n        ],\n        \"semantic_type\": \"\",\n        \"description\": \"\"\n      }\n    },\n    {\n      \"column\": \"households\",\n      \"properties\": {\n        \"dtype\": \"number\",\n        \"std\": 384.5208408559009,\n        \"min\": 1.0,\n        \"max\": 6082.0,\n        \"num_unique_values\": 1740,\n        \"samples\": [\n          390.0,\n          1089.0,\n          1351.0\n        ],\n        \"semantic_type\": \"\",\n        \"description\": \"\"\n      }\n    },\n    {\n      \"column\": \"median_income\",\n      \"properties\": {\n        \"dtype\": \"number\",\n        \"std\": 1.9081565183791036,\n        \"min\": 0.4999,\n        \"max\": 15.0001,\n        \"num_unique_values\": 11175,\n        \"samples\": [\n          7.2655,\n          5.6293,\n          4.2262\n        ],\n        \"semantic_type\": \"\",\n        \"description\": \"\"\n      }\n    },\n    {\n      \"column\": \"median_house_value\",\n      \"properties\": {\n        \"dtype\": \"number\",\n        \"std\": 115983.76438720885,\n        \"min\": 14999.0,\n        \"max\": 500001.0,\n        \"num_unique_values\": 3694,\n        \"samples\": [\n          162300.0,\n          346800.0,\n          116700.0\n        ],\n        \"semantic_type\": \"\",\n        \"description\": \"\"\n      }\n    }\n  ]\n}"
            }
          },
          "metadata": {}
        },
        {
          "output_type": "execute_result",
          "data": {
            "text/plain": [
              "longitude              -114.5900\n",
              "latitude                 33.6100\n",
              "housing_median_age       34.0000\n",
              "total_rooms            4789.0000\n",
              "total_bedrooms         1175.0000\n",
              "population             3134.0000\n",
              "households             1056.0000\n",
              "median_income             2.1782\n",
              "median_house_value    58400.0000\n",
              "Name: 8, dtype: float64"
            ]
          },
          "metadata": {},
          "execution_count": 63
        }
      ]
    },
    {
      "cell_type": "code",
      "source": [
        "import numpy as np    #calculando distância euclidiana\n",
        "import pandas as pd\n",
        "\n",
        "\n",
        "dicio = {\n",
        "  'idade' :[12,13,18],\n",
        "  'media' :[8,7,9],\n",
        "  'tempoLOL' :[110,130,135]\n",
        "}\n",
        "\n",
        "df = pd.DataFrame(dicio)\n",
        "dif=df['media']-df['tempoLOL']\n",
        "quad=np.dot(dif,dif)\n",
        "finalMediaTempo=np.sqrt(quad)\n",
        "display(finalMediaTempo)\n",
        "\n",
        "dif=df['idade']-df['media']\n",
        "quad=np.dot(dif,dif)\n",
        "finalMediaIdade=np.sqrt(quad)\n",
        "display(finalMediaIdade)\n",
        "\n",
        "dif=df['idade']-df['tempoLOL']\n",
        "quad=np.dot(dif,dif)\n",
        "finalIdadeTempo=np.sqrt(quad)\n",
        "display(finalIdadeTempo)\n"
      ],
      "metadata": {
        "colab": {
          "base_uri": "https://localhost:8080/",
          "height": 71
        },
        "id": "tftJGFj9ERPd",
        "outputId": "45cbead4-3bfd-4c1a-f46b-221fa30b7a07"
      },
      "execution_count": null,
      "outputs": [
        {
          "output_type": "display_data",
          "data": {
            "text/plain": [
              "203.49201458533943"
            ]
          },
          "metadata": {}
        },
        {
          "output_type": "display_data",
          "data": {
            "text/plain": [
              "11.532562594670797"
            ]
          },
          "metadata": {}
        },
        {
          "output_type": "display_data",
          "data": {
            "text/plain": [
              "192.30704615276062"
            ]
          },
          "metadata": {}
        }
      ]
    }
  ]
}